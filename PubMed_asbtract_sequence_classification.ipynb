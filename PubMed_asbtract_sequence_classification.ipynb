{
  "nbformat": 4,
  "nbformat_minor": 0,
  "metadata": {
    "colab": {
      "provenance": [],
      "machine_shape": "hm",
      "collapsed_sections": [
        "Pz550suFeVtC"
      ]
    },
    "kernelspec": {
      "name": "python3",
      "display_name": "Python 3"
    },
    "language_info": {
      "name": "python"
    },
    "accelerator": "GPU",
    "gpuClass": "standard"
  },
  "cells": [
    {
      "cell_type": "markdown",
      "source": [
        "# Project Description\n",
        "The purpose of this notebook is to build NLP model to organize the abstracts of Randomized Controlled Trials into sections in order to make it faster and easier to read. The data is given in [PubMed 200k RCT: a Dataset for Sequenctial Sentence Classification in Medical Abstracts](https://arxiv.org/abs/1710.06071). Only 20k subset of the dataset is being used in this project.\n",
        "\n",
        "\n",
        "Below is an example input abstract of a medical paper. For each sentence we are given a label, and we need to build a classification model that will predict target classes and help organize the abstract sentences into the given categories.\n",
        "```\n",
        "['###24293578\\n',\n",
        " 'OBJECTIVE\\tTo investigate the efficacy of @ weeks of daily low-dose oral prednisolone in improving pain , mobility , and systemic low-grade inflammation in the short term and whether the effect would be sustained at @ weeks in older adults with moderate to severe knee osteoarthritis ( OA ) .\\n',\n",
        " 'METHODS\\tA total of @ patients with primary knee OA were randomized @:@ ; @ received @ mg/day of prednisolone and @ received placebo for @ weeks .\\n',\n",
        " 'METHODS\\tOutcome measures included pain reduction and improvement in function scores and systemic inflammation markers .\\n',\n",
        " 'METHODS\\tPain was assessed using the visual analog pain scale ( @-@ mm ) .\\n',\n",
        " 'METHODS\\tSecondary outcome measures included the Western Ontario and McMaster Universities Osteoarthritis Index scores , patient global assessment ( PGA ) of the severity of knee OA , and @-min walk distance ( @MWD ) .\\n',\n",
        " 'METHODS\\tSerum levels of interleukin @ ( IL-@ ) , IL-@ , tumor necrosis factor ( TNF ) - , and high-sensitivity C-reactive protein ( hsCRP ) were measured .\\n',\n",
        " 'RESULTS\\tThere was a clinically relevant reduction in the intervention group compared to the placebo group for knee pain , physical function , PGA , and @MWD at @ weeks .\\n',\n",
        " 'RESULTS\\tThe mean difference between treatment arms ( @ % CI ) was @ ( @-@ @ ) , p < @ ; @ ( @-@ @ ) , p < @ ; @ ( @-@ @ ) , p < @ ; and @ ( @-@ @ ) , p < @ , respectively .\\n',\n",
        " 'RESULTS\\tFurther , there was a clinically relevant reduction in the serum levels of IL-@ , IL-@ , TNF - , and hsCRP at @ weeks in the intervention group when compared to the placebo group .\\n',\n",
        " 'RESULTS\\tThese differences remained significant at @ weeks .\\n',\n",
        " 'RESULTS\\tThe Outcome Measures in Rheumatology Clinical Trials-Osteoarthritis Research Society International responder rate was @ % in the intervention group and @ % in the placebo group ( p < @ ) .\\n',\n",
        " 'CONCLUSIONS\\tLow-dose oral prednisolone had both a short-term and a longer sustained effect resulting in less knee pain , better physical function , and attenuation of systemic inflammation in older patients with knee OA ( ClinicalTrials.gov identifier NCT@ ) .\\n',\n",
        " '\\n']\n",
        "```\n",
        "> This project covers the replication of some of the ideas used in [Neural Networks for Joint Sentence Classification\n",
        "in Medical Paper Abstracts](https://arxiv.org/pdf/1612.05251.pdf) paper with some modifications to transfer learning model choice and improvements with some custom layers."
      ],
      "metadata": {
        "id": "tpHXfppWBtNK"
      }
    },
    {
      "cell_type": "markdown",
      "source": [
        "## Load libraries"
      ],
      "metadata": {
        "id": "DEwlEevLKvXn"
      }
    },
    {
      "cell_type": "code",
      "source": [
        "# Required tensorflow tools, libraries and modules\n",
        "import tensorflow as tf\n",
        "from tensorflow.keras import layers\n",
        "import tensorflow_hub as hub\n",
        "import tensorflow_text as text  # Imports TF ops for preprocessing.\n",
        "from tensorflow.keras.utils import plot_model\n",
        "\n",
        "# Data preprocessing and plotting libraries\n",
        "import numpy as np\n",
        "import pandas as pd\n",
        "import seaborn as sns\n",
        "import matplotlib.pyplot as plt\n",
        "import random\n",
        "import string\n",
        "import re\n",
        "\n",
        "# Sklearn metrics, text feature extraction and algorithms\n",
        "from sklearn.metrics import classification_report, f1_score, confusion_matrix\n",
        "from sklearn.feature_extraction import text\n",
        "from sklearn.feature_extraction.text import TfidfVectorizer\n",
        "from sklearn.naive_bayes import MultinomialNB\n",
        "from sklearn.pipeline import Pipeline\n",
        "\n",
        "# Auxiliary libraries for system interface, saving-loading model artifacts\n",
        "import joblib\n",
        "import os\n",
        "from tqdm import tqdm\n",
        "from warnings import filterwarnings\n",
        "filterwarnings('ignore') # ignores warnings about future updates, etc.\n"
      ],
      "metadata": {
        "id": "AsJpCC0LKxkf"
      },
      "execution_count": null,
      "outputs": []
    },
    {
      "cell_type": "code",
      "source": [
        "# Download helper functions script\n",
        "!wget https://raw.githubusercontent.com/mrdbourke/tensorflow-deep-learning/main/extras/helper_functions.py\n",
        "from helper_functions import make_confusion_matrix, calculate_results"
      ],
      "metadata": {
        "id": "Lr7fXPv3CNeB"
      },
      "execution_count": null,
      "outputs": []
    },
    {
      "cell_type": "markdown",
      "source": [
        "## Download the Data\n",
        "Data has been made available by the authors at [github repo of the paper](https://github.com/Franck-Dernoncourt/pubmed-rct)."
      ],
      "metadata": {
        "id": "FUL5ycrbDEvB"
      }
    },
    {
      "cell_type": "code",
      "execution_count": null,
      "metadata": {
        "id": "gDHdFBMC_TCv"
      },
      "outputs": [],
      "source": [
        "!git clone https://github.com/Franck-Dernoncourt/pubmed-rct\n",
        "!ls pubmed-rct"
      ]
    },
    {
      "cell_type": "code",
      "source": [
        "# check the files in PubMed_20k_RCT (explore the smaller subset)\n",
        "!ls /content/pubmed-rct/PubMed_20k_RCT_numbers_replaced_with_at_sign"
      ],
      "metadata": {
        "colab": {
          "base_uri": "https://localhost:8080/"
        },
        "id": "zm2IT9IFDuiP",
        "outputId": "4ca46160-5040-45d1-95a1-0f238c844291"
      },
      "execution_count": null,
      "outputs": [
        {
          "output_type": "stream",
          "name": "stdout",
          "text": [
            "dev.txt  test.txt  train.txt\n"
          ]
        }
      ]
    },
    {
      "cell_type": "code",
      "source": [
        "# Explore the data \n",
        "with open('/content/pubmed-rct/PubMed_20k_RCT_numbers_replaced_with_at_sign/train.txt', 'r') as file:\n",
        "  for row in range(16):\n",
        "    print(file.readline())"
      ],
      "metadata": {
        "colab": {
          "base_uri": "https://localhost:8080/"
        },
        "id": "TzrxIvDWEP_6",
        "outputId": "7041e045-600b-448d-e1aa-b9f85af26fbc"
      },
      "execution_count": null,
      "outputs": [
        {
          "output_type": "stream",
          "name": "stdout",
          "text": [
            "###24293578\n",
            "\n",
            "OBJECTIVE\tTo investigate the efficacy of @ weeks of daily low-dose oral prednisolone in improving pain , mobility , and systemic low-grade inflammation in the short term and whether the effect would be sustained at @ weeks in older adults with moderate to severe knee osteoarthritis ( OA ) .\n",
            "\n",
            "METHODS\tA total of @ patients with primary knee OA were randomized @:@ ; @ received @ mg/day of prednisolone and @ received placebo for @ weeks .\n",
            "\n",
            "METHODS\tOutcome measures included pain reduction and improvement in function scores and systemic inflammation markers .\n",
            "\n",
            "METHODS\tPain was assessed using the visual analog pain scale ( @-@ mm ) .\n",
            "\n",
            "METHODS\tSecondary outcome measures included the Western Ontario and McMaster Universities Osteoarthritis Index scores , patient global assessment ( PGA ) of the severity of knee OA , and @-min walk distance ( @MWD ) .\n",
            "\n",
            "METHODS\tSerum levels of interleukin @ ( IL-@ ) , IL-@ , tumor necrosis factor ( TNF ) - , and high-sensitivity C-reactive protein ( hsCRP ) were measured .\n",
            "\n",
            "RESULTS\tThere was a clinically relevant reduction in the intervention group compared to the placebo group for knee pain , physical function , PGA , and @MWD at @ weeks .\n",
            "\n",
            "RESULTS\tThe mean difference between treatment arms ( @ % CI ) was @ ( @-@ @ ) , p < @ ; @ ( @-@ @ ) , p < @ ; @ ( @-@ @ ) , p < @ ; and @ ( @-@ @ ) , p < @ , respectively .\n",
            "\n",
            "RESULTS\tFurther , there was a clinically relevant reduction in the serum levels of IL-@ , IL-@ , TNF - , and hsCRP at @ weeks in the intervention group when compared to the placebo group .\n",
            "\n",
            "RESULTS\tThese differences remained significant at @ weeks .\n",
            "\n",
            "RESULTS\tThe Outcome Measures in Rheumatology Clinical Trials-Osteoarthritis Research Society International responder rate was @ % in the intervention group and @ % in the placebo group ( p < @ ) .\n",
            "\n",
            "CONCLUSIONS\tLow-dose oral prednisolone had both a short-term and a longer sustained effect resulting in less knee pain , better physical function , and attenuation of systemic inflammation in older patients with knee OA ( ClinicalTrials.gov identifier NCT@ ) .\n",
            "\n",
            "\n",
            "\n",
            "###24854809\n",
            "\n",
            "BACKGROUND\tEmotional eating is associated with overeating and the development of obesity .\n",
            "\n"
          ]
        }
      ]
    },
    {
      "cell_type": "code",
      "source": [
        "# Start our experiment with rct-20k-numbers_replaced_with_@ *dataseet*\n",
        "data_dir = '/content/pubmed-rct/PubMed_20k_RCT_numbers_replaced_with_at_sign' \n",
        "train_dir, dev_dir, test_dir = os.path.join(data_dir,'train.txt'), os.path.join(data_dir,'dev.txt'), os.path.join(data_dir,'test.txt')\n",
        "train_dir, dev_dir, test_dir"
      ],
      "metadata": {
        "colab": {
          "base_uri": "https://localhost:8080/"
        },
        "id": "N_0lunIXEx2-",
        "outputId": "0bb40e85-65ed-459a-cbc3-e0a02645ae08"
      },
      "execution_count": null,
      "outputs": [
        {
          "output_type": "execute_result",
          "data": {
            "text/plain": [
              "('/content/pubmed-rct/PubMed_20k_RCT_numbers_replaced_with_at_sign/train.txt',\n",
              " '/content/pubmed-rct/PubMed_20k_RCT_numbers_replaced_with_at_sign/dev.txt',\n",
              " '/content/pubmed-rct/PubMed_20k_RCT_numbers_replaced_with_at_sign/test.txt')"
            ]
          },
          "metadata": {},
          "execution_count": 6
        }
      ]
    },
    {
      "cell_type": "markdown",
      "source": [
        "## Preprocessing Data\n",
        "\n",
        "The above data exploration step showed that abstracts are determined by the id starting with ##, and there is a empty line seperating abstracts from each other. The lines for each abstract are represented as `category   sentence` string where category is given by the first word in a string. So, we need a preprocessing function that will take care of abstract ids and epty line, and seperate target and input (category and sentence) into x,y tensors. The preprocessed list will be as following\n",
        "\n",
        "    '[{'line_num' : 0, \n",
        "\n",
        "    'target': 'background',\n",
        "\n",
        "    'text' : 'Emotional eating is associated with overeating and the development of obesity .',\n",
        "\n",
        "    'total_lines':15},\n",
        "    \n",
        "    {...}...]`"
      ],
      "metadata": {
        "id": "iGGSlCeVLtgt"
      }
    },
    {
      "cell_type": "code",
      "source": [
        "# read in  [{},{},{}] format\n",
        "def preprocess_with_line_numbers(filename):\n",
        "  \"\"\"\n",
        "  Returns a list of dictionaries of abstract lines\n",
        "  \"\"\"\n",
        "  # read the lines from the text file\n",
        "  with open(filename, 'r') as f:\n",
        "    lines = f.readlines()\n",
        "\n",
        "  abstract_lines = \"\" # create and empty abstract string\n",
        "  abstract_samples = [] # create and empty list of abstracts\n",
        "  \n",
        "  for line in lines:\n",
        "    if line.startswith(\"###\"):\n",
        "      abstract_id = line\n",
        "      abstract_lines = \"\"  #reset the abstract \n",
        "    elif line.isspace(): #checks if the line is a new line\n",
        "      abstract_lines_sep = abstract_lines.split('\\n') # split abstract into strings of 'label sentence'\n",
        "      abstract_len = len(abstract_lines_sep)\n",
        "      # iterate through each line of abstract and build the dictionary\n",
        "      for i, sentence in enumerate(abstract_lines_sep[:-1]):\n",
        "        abstract_sample = {}\n",
        "        target, sentence = sentence.split('\\t')\n",
        "        abstract_sample['line_number'] = i\n",
        "        abstract_sample['target'] = target\n",
        "        abstract_sample['text'] = sentence.lower()\n",
        "        abstract_sample['total_lines'] = abstract_len\n",
        "        abstract_samples.append(abstract_sample)\n",
        "    else:\n",
        "      abstract_lines += line\n",
        "  return abstract_samples"
      ],
      "metadata": {
        "id": "CBFn6oxX4r5k"
      },
      "execution_count": null,
      "outputs": []
    },
    {
      "cell_type": "code",
      "source": [
        "# preprocess train, validation, and test samples\n",
        "train_samples = preprocess_with_line_numbers(train_dir)\n",
        "valid_samples = preprocess_with_line_numbers(dev_dir)\n",
        "test_samples = preprocess_with_line_numbers(test_dir)\n",
        "\n",
        "# view the first abstract\n",
        "train_samples[:3]"
      ],
      "metadata": {
        "colab": {
          "base_uri": "https://localhost:8080/"
        },
        "id": "VehPSIXDBqBA",
        "outputId": "2a9a7ce1-e023-41ec-e158-4d2d4594d863"
      },
      "execution_count": null,
      "outputs": [
        {
          "output_type": "execute_result",
          "data": {
            "text/plain": [
              "[{'line_number': 0,\n",
              "  'target': 'OBJECTIVE',\n",
              "  'text': 'to investigate the efficacy of @ weeks of daily low-dose oral prednisolone in improving pain , mobility , and systemic low-grade inflammation in the short term and whether the effect would be sustained at @ weeks in older adults with moderate to severe knee osteoarthritis ( oa ) .',\n",
              "  'total_lines': 13},\n",
              " {'line_number': 1,\n",
              "  'target': 'METHODS',\n",
              "  'text': 'a total of @ patients with primary knee oa were randomized @:@ ; @ received @ mg/day of prednisolone and @ received placebo for @ weeks .',\n",
              "  'total_lines': 13},\n",
              " {'line_number': 2,\n",
              "  'target': 'METHODS',\n",
              "  'text': 'outcome measures included pain reduction and improvement in function scores and systemic inflammation markers .',\n",
              "  'total_lines': 13}]"
            ]
          },
          "metadata": {},
          "execution_count": 8
        }
      ]
    },
    {
      "cell_type": "markdown",
      "source": [
        "## Explore data"
      ],
      "metadata": {
        "id": "IIGen_zw2Qhc"
      }
    },
    {
      "cell_type": "code",
      "source": [
        "# convert list of dictionaries to pandas dataframe\n",
        "train_data = pd.DataFrame(train_samples)\n",
        "valid_data = pd.DataFrame(valid_samples)\n",
        "test_data = pd.DataFrame(test_samples)\n",
        "\n",
        "# get the position of line w.r.t total lines\n",
        "train_data['line_pos'] = train_data.line_number/train_data.total_lines\n",
        "valid_data['line_pos'] = valid_data.line_number/valid_data.total_lines\n",
        "test_data['line_pos'] = test_data.line_number/test_data.total_lines\n",
        "\n",
        "# view the training dataframe\n",
        "train_data.head(5)"
      ],
      "metadata": {
        "colab": {
          "base_uri": "https://localhost:8080/",
          "height": 206
        },
        "id": "Q143NvpgESCf",
        "outputId": "a0c21c5f-54b9-42e9-d5ca-e1f7e6f7068e"
      },
      "execution_count": null,
      "outputs": [
        {
          "output_type": "execute_result",
          "data": {
            "text/plain": [
              "   line_number     target                                               text  \\\n",
              "0            0  OBJECTIVE  to investigate the efficacy of @ weeks of dail...   \n",
              "1            1    METHODS  a total of @ patients with primary knee oa wer...   \n",
              "2            2    METHODS  outcome measures included pain reduction and i...   \n",
              "3            3    METHODS  pain was assessed using the visual analog pain...   \n",
              "4            4    METHODS  secondary outcome measures included the wester...   \n",
              "\n",
              "   total_lines  line_pos  \n",
              "0           13  0.000000  \n",
              "1           13  0.076923  \n",
              "2           13  0.153846  \n",
              "3           13  0.230769  \n",
              "4           13  0.307692  "
            ],
            "text/html": [
              "\n",
              "  <div id=\"df-784ef770-fea6-462a-9419-3ebee119f839\">\n",
              "    <div class=\"colab-df-container\">\n",
              "      <div>\n",
              "<style scoped>\n",
              "    .dataframe tbody tr th:only-of-type {\n",
              "        vertical-align: middle;\n",
              "    }\n",
              "\n",
              "    .dataframe tbody tr th {\n",
              "        vertical-align: top;\n",
              "    }\n",
              "\n",
              "    .dataframe thead th {\n",
              "        text-align: right;\n",
              "    }\n",
              "</style>\n",
              "<table border=\"1\" class=\"dataframe\">\n",
              "  <thead>\n",
              "    <tr style=\"text-align: right;\">\n",
              "      <th></th>\n",
              "      <th>line_number</th>\n",
              "      <th>target</th>\n",
              "      <th>text</th>\n",
              "      <th>total_lines</th>\n",
              "      <th>line_pos</th>\n",
              "    </tr>\n",
              "  </thead>\n",
              "  <tbody>\n",
              "    <tr>\n",
              "      <th>0</th>\n",
              "      <td>0</td>\n",
              "      <td>OBJECTIVE</td>\n",
              "      <td>to investigate the efficacy of @ weeks of dail...</td>\n",
              "      <td>13</td>\n",
              "      <td>0.000000</td>\n",
              "    </tr>\n",
              "    <tr>\n",
              "      <th>1</th>\n",
              "      <td>1</td>\n",
              "      <td>METHODS</td>\n",
              "      <td>a total of @ patients with primary knee oa wer...</td>\n",
              "      <td>13</td>\n",
              "      <td>0.076923</td>\n",
              "    </tr>\n",
              "    <tr>\n",
              "      <th>2</th>\n",
              "      <td>2</td>\n",
              "      <td>METHODS</td>\n",
              "      <td>outcome measures included pain reduction and i...</td>\n",
              "      <td>13</td>\n",
              "      <td>0.153846</td>\n",
              "    </tr>\n",
              "    <tr>\n",
              "      <th>3</th>\n",
              "      <td>3</td>\n",
              "      <td>METHODS</td>\n",
              "      <td>pain was assessed using the visual analog pain...</td>\n",
              "      <td>13</td>\n",
              "      <td>0.230769</td>\n",
              "    </tr>\n",
              "    <tr>\n",
              "      <th>4</th>\n",
              "      <td>4</td>\n",
              "      <td>METHODS</td>\n",
              "      <td>secondary outcome measures included the wester...</td>\n",
              "      <td>13</td>\n",
              "      <td>0.307692</td>\n",
              "    </tr>\n",
              "  </tbody>\n",
              "</table>\n",
              "</div>\n",
              "      <button class=\"colab-df-convert\" onclick=\"convertToInteractive('df-784ef770-fea6-462a-9419-3ebee119f839')\"\n",
              "              title=\"Convert this dataframe to an interactive table.\"\n",
              "              style=\"display:none;\">\n",
              "        \n",
              "  <svg xmlns=\"http://www.w3.org/2000/svg\" height=\"24px\"viewBox=\"0 0 24 24\"\n",
              "       width=\"24px\">\n",
              "    <path d=\"M0 0h24v24H0V0z\" fill=\"none\"/>\n",
              "    <path d=\"M18.56 5.44l.94 2.06.94-2.06 2.06-.94-2.06-.94-.94-2.06-.94 2.06-2.06.94zm-11 1L8.5 8.5l.94-2.06 2.06-.94-2.06-.94L8.5 2.5l-.94 2.06-2.06.94zm10 10l.94 2.06.94-2.06 2.06-.94-2.06-.94-.94-2.06-.94 2.06-2.06.94z\"/><path d=\"M17.41 7.96l-1.37-1.37c-.4-.4-.92-.59-1.43-.59-.52 0-1.04.2-1.43.59L10.3 9.45l-7.72 7.72c-.78.78-.78 2.05 0 2.83L4 21.41c.39.39.9.59 1.41.59.51 0 1.02-.2 1.41-.59l7.78-7.78 2.81-2.81c.8-.78.8-2.07 0-2.86zM5.41 20L4 18.59l7.72-7.72 1.47 1.35L5.41 20z\"/>\n",
              "  </svg>\n",
              "      </button>\n",
              "      \n",
              "  <style>\n",
              "    .colab-df-container {\n",
              "      display:flex;\n",
              "      flex-wrap:wrap;\n",
              "      gap: 12px;\n",
              "    }\n",
              "\n",
              "    .colab-df-convert {\n",
              "      background-color: #E8F0FE;\n",
              "      border: none;\n",
              "      border-radius: 50%;\n",
              "      cursor: pointer;\n",
              "      display: none;\n",
              "      fill: #1967D2;\n",
              "      height: 32px;\n",
              "      padding: 0 0 0 0;\n",
              "      width: 32px;\n",
              "    }\n",
              "\n",
              "    .colab-df-convert:hover {\n",
              "      background-color: #E2EBFA;\n",
              "      box-shadow: 0px 1px 2px rgba(60, 64, 67, 0.3), 0px 1px 3px 1px rgba(60, 64, 67, 0.15);\n",
              "      fill: #174EA6;\n",
              "    }\n",
              "\n",
              "    [theme=dark] .colab-df-convert {\n",
              "      background-color: #3B4455;\n",
              "      fill: #D2E3FC;\n",
              "    }\n",
              "\n",
              "    [theme=dark] .colab-df-convert:hover {\n",
              "      background-color: #434B5C;\n",
              "      box-shadow: 0px 1px 3px 1px rgba(0, 0, 0, 0.15);\n",
              "      filter: drop-shadow(0px 1px 2px rgba(0, 0, 0, 0.3));\n",
              "      fill: #FFFFFF;\n",
              "    }\n",
              "  </style>\n",
              "\n",
              "      <script>\n",
              "        const buttonEl =\n",
              "          document.querySelector('#df-784ef770-fea6-462a-9419-3ebee119f839 button.colab-df-convert');\n",
              "        buttonEl.style.display =\n",
              "          google.colab.kernel.accessAllowed ? 'block' : 'none';\n",
              "\n",
              "        async function convertToInteractive(key) {\n",
              "          const element = document.querySelector('#df-784ef770-fea6-462a-9419-3ebee119f839');\n",
              "          const dataTable =\n",
              "            await google.colab.kernel.invokeFunction('convertToInteractive',\n",
              "                                                     [key], {});\n",
              "          if (!dataTable) return;\n",
              "\n",
              "          const docLinkHtml = 'Like what you see? Visit the ' +\n",
              "            '<a target=\"_blank\" href=https://colab.research.google.com/notebooks/data_table.ipynb>data table notebook</a>'\n",
              "            + ' to learn more about interactive tables.';\n",
              "          element.innerHTML = '';\n",
              "          dataTable['output_type'] = 'display_data';\n",
              "          await google.colab.output.renderOutput(dataTable, element);\n",
              "          const docLink = document.createElement('div');\n",
              "          docLink.innerHTML = docLinkHtml;\n",
              "          element.appendChild(docLink);\n",
              "        }\n",
              "      </script>\n",
              "    </div>\n",
              "  </div>\n",
              "  "
            ]
          },
          "metadata": {},
          "execution_count": 9
        }
      ]
    },
    {
      "cell_type": "code",
      "source": [
        "# Explore data distribution\n",
        "plt.figure(figsize = (24,6))\n",
        "# plot target distribution pie chart\n",
        "plt.subplot(1,3,1)  \n",
        "# create pie chart\n",
        "target_dist = (train_data['target'].value_counts()/train_data.shape[0]*100).astype('int') # get frequency data\n",
        "colors = sns.color_palette('pastel')[0:5]   # define Seaborn color palette to use\n",
        "plt.pie(target_dist.values, labels = target_dist.index,  colors = colors, autopct='%.0f%%')\n",
        "plt.title('Frequency of Target Categories')\n",
        "# create histogram of abstract length\n",
        "plt.subplot(1,3,2)  \n",
        "sns.histplot(train_data['total_lines'], stat = 'probability' )\n",
        "plt.title('Distribution of Abstract Length')\n",
        "# create histogram of sentence length\n",
        "plt.subplot(1,3,3)  \n",
        "sns.histplot(train_data['text'].str.len().values, stat = 'probability' )\n",
        "plt.title('Distribution of Sentence Length')\n",
        "plt.show()"
      ],
      "metadata": {
        "colab": {
          "base_uri": "https://localhost:8080/",
          "height": 425
        },
        "id": "dOPZin2IErKl",
        "outputId": "747d3b65-21b9-40de-dc78-a327c584e2ba"
      },
      "execution_count": null,
      "outputs": [
        {
          "output_type": "display_data",
          "data": {
            "text/plain": [
              "<Figure size 1728x432 with 3 Axes>"
            ],
            "image/png": "[encoded data removed]"
          },
          "metadata": {
            "needs_background": "light"
          }
        }
      ]
    },
    {
      "cell_type": "code",
      "source": [
        "# Create sentence length and word count columns for each sentence in the train data\n",
        "target_df = train_data[['target','text']]\n",
        "target_df['sentence_len'] = target_df.text.str.len()\n",
        "target_df['word_count'] = [len(sentence.split()) for sentence in target_df.text.values]\n",
        "# Create a box plot of Sentence length by target category\n",
        "plt.figure(figsize = (20, 10))\n",
        "for i, col in enumerate(['sentence_len', 'word_count']):\n",
        "  plt.subplot(2,1,i+1)\n",
        "  non_outliers = target_df[col] < np.percentile(target_df[col].values, [99.5])[0]  # ignore outliers (< 99.5 percentile)\n",
        "  sns.boxplot(data = target_df[non_outliers], x = 'target', y = col)\n",
        "plt.show()\n"
      ],
      "metadata": {
        "colab": {
          "base_uri": "https://localhost:8080/",
          "height": 529
        },
        "id": "RqSJXI-sOdui",
        "outputId": "aa1b299d-4784-4fb8-85a0-59d66727169e"
      },
      "execution_count": null,
      "outputs": [
        {
          "output_type": "display_data",
          "data": {
            "text/plain": [
              "<Figure size 1440x720 with 2 Axes>"
            ],
            "image/png": "[encoded data removed]"
          },
          "metadata": {
            "needs_background": "light"
          }
        }
      ]
    },
    {
      "cell_type": "markdown",
      "source": [
        "Bacgrounds seem to be shortest since it is not very significant part of the research. And objective and conclusions are also shorter compared to methods and results, because research abstracts needs to be concise explaining research question and contributions in short but clear way. "
      ],
      "metadata": {
        "id": "Jlv_cZLXNS-G"
      }
    },
    {
      "cell_type": "code",
      "source": [
        "# Plot the distribution (using kernel density estimation) of relative position of sentences (line_number / total_lines)\n",
        "plt.figure(figsize = (16,8))\n",
        "sns.histplot(data = train_data, x = 'line_pos', hue = 'target', kde = True)\n",
        "plt.show()"
      ],
      "metadata": {
        "colab": {
          "base_uri": "https://localhost:8080/",
          "height": 498
        },
        "id": "GweAypjgOXOf",
        "outputId": "4a91578f-a6ad-44f1-a953-bb9797821f54"
      },
      "execution_count": null,
      "outputs": [
        {
          "output_type": "display_data",
          "data": {
            "text/plain": [
              "<Figure size 1152x576 with 1 Axes>"
            ],
            "image/png": "[encoded data removed]"
          },
          "metadata": {
            "needs_background": "light"
          }
        }
      ]
    },
    {
      "cell_type": "code",
      "source": [
        "# Check the common location for Background sentences\n",
        "print((train_data[train_data.target == 'BACKGROUND']['line_number']<2).sum()/len(train_data[train_data.target == 'BACKGROUND'])) \n",
        "# Check the common location for Objective sentences\n",
        "print((train_data[train_data.target == 'OBJECTIVE']['line_number']<2).sum()/len(train_data[train_data.target == 'OBJECTIVE']))"
      ],
      "metadata": {
        "colab": {
          "base_uri": "https://localhost:8080/"
        },
        "id": "zRl_tBnrSlDs",
        "outputId": "ecfe61c8-26c3-43b7-b437-b905d9c77453"
      },
      "execution_count": null,
      "outputs": [
        {
          "output_type": "stream",
          "name": "stdout",
          "text": [
            "0.6119114465871957\n",
            "0.7964448298287449\n"
          ]
        }
      ]
    },
    {
      "cell_type": "markdown",
      "source": [
        "Objective and background are generally introduced in the earlier sentences of an abstract. There are significantly less objective and background sentences compared to other sentence categories. Differentiating these two is going to be the main challenge of this project. Based on the above information, nearly 60% of bacground sentences and 70% of objective sentences are located within first 3 sentences.\n",
        "\n",
        "It will be easier to identify methods, results and conclusion sentences, since these sentences are usually characterized by research specific method names, numerical results, and conclusive phrases, respectively, and their location does not overlap too much with each other."
      ],
      "metadata": {
        "id": "l-LoMJffUmzX"
      }
    },
    {
      "cell_type": "code",
      "source": [
        "# Create a statistics table of location of target categories within the abstract\n",
        "# Define functions to calculate percentile values\n",
        "def q25(x):\n",
        "    return x.quantile(0.25)\n",
        "def q75(x):\n",
        "    return x.quantile(0.75)\n",
        "def q10(x):\n",
        "    return x.quantile(0.10)\n",
        "def q90(x):\n",
        "    return x.quantile(0.90)\n",
        "print('Sentence order (top 5 most frequent line number) by target category:')\n",
        "train_data[['target', 'line_pos']].groupby('target').agg(['mean', 'median', 'std', q10, q25, q75, q90])"
      ],
      "metadata": {
        "colab": {
          "base_uri": "https://localhost:8080/",
          "height": 287
        },
        "id": "oTQP6rLHQKaZ",
        "outputId": "25550c4f-e3d0-429e-8400-67b94e1c2584"
      },
      "execution_count": null,
      "outputs": [
        {
          "output_type": "stream",
          "name": "stdout",
          "text": [
            "Sentence order (top 5 most frequent line number) by target category:\n"
          ]
        },
        {
          "output_type": "execute_result",
          "data": {
            "text/plain": [
              "             line_pos                                                    \\\n",
              "                 mean    median       std       q10       q25       q75   \n",
              "target                                                                    \n",
              "BACKGROUND   0.193119  0.076923  0.289042  0.000000  0.000000  0.181818   \n",
              "CONCLUSIONS  0.782850  0.800000  0.073928  0.692308  0.750000  0.833333   \n",
              "METHODS      0.297822  0.285714  0.143127  0.125000  0.187500  0.384615   \n",
              "OBJECTIVE    0.057115  0.000000  0.077591  0.000000  0.000000  0.090909   \n",
              "RESULTS      0.557483  0.571429  0.131778  0.384615  0.466667  0.666667   \n",
              "\n",
              "                       \n",
              "                  q90  \n",
              "target                 \n",
              "BACKGROUND   0.846154  \n",
              "CONCLUSIONS  0.857143  \n",
              "METHODS      0.500000  \n",
              "OBJECTIVE    0.166667  \n",
              "RESULTS      0.722222  "
            ],
            "text/html": [
              "\n",
              "  <div id=\"df-3fad73a6-4cfb-486f-859e-22a4561662ac\">\n",
              "    <div class=\"colab-df-container\">\n",
              "      <div>\n",
              "<style scoped>\n",
              "    .dataframe tbody tr th:only-of-type {\n",
              "        vertical-align: middle;\n",
              "    }\n",
              "\n",
              "    .dataframe tbody tr th {\n",
              "        vertical-align: top;\n",
              "    }\n",
              "\n",
              "    .dataframe thead tr th {\n",
              "        text-align: left;\n",
              "    }\n",
              "\n",
              "    .dataframe thead tr:last-of-type th {\n",
              "        text-align: right;\n",
              "    }\n",
              "</style>\n",
              "<table border=\"1\" class=\"dataframe\">\n",
              "  <thead>\n",
              "    <tr>\n",
              "      <th></th>\n",
              "      <th colspan=\"7\" halign=\"left\">line_pos</th>\n",
              "    </tr>\n",
              "    <tr>\n",
              "      <th></th>\n",
              "      <th>mean</th>\n",
              "      <th>median</th>\n",
              "      <th>std</th>\n",
              "      <th>q10</th>\n",
              "      <th>q25</th>\n",
              "      <th>q75</th>\n",
              "      <th>q90</th>\n",
              "    </tr>\n",
              "    <tr>\n",
              "      <th>target</th>\n",
              "      <th></th>\n",
              "      <th></th>\n",
              "      <th></th>\n",
              "      <th></th>\n",
              "      <th></th>\n",
              "      <th></th>\n",
              "      <th></th>\n",
              "    </tr>\n",
              "  </thead>\n",
              "  <tbody>\n",
              "    <tr>\n",
              "      <th>BACKGROUND</th>\n",
              "      <td>0.193119</td>\n",
              "      <td>0.076923</td>\n",
              "      <td>0.289042</td>\n",
              "      <td>0.000000</td>\n",
              "      <td>0.000000</td>\n",
              "      <td>0.181818</td>\n",
              "      <td>0.846154</td>\n",
              "    </tr>\n",
              "    <tr>\n",
              "      <th>CONCLUSIONS</th>\n",
              "      <td>0.782850</td>\n",
              "      <td>0.800000</td>\n",
              "      <td>0.073928</td>\n",
              "      <td>0.692308</td>\n",
              "      <td>0.750000</td>\n",
              "      <td>0.833333</td>\n",
              "      <td>0.857143</td>\n",
              "    </tr>\n",
              "    <tr>\n",
              "      <th>METHODS</th>\n",
              "      <td>0.297822</td>\n",
              "      <td>0.285714</td>\n",
              "      <td>0.143127</td>\n",
              "      <td>0.125000</td>\n",
              "      <td>0.187500</td>\n",
              "      <td>0.384615</td>\n",
              "      <td>0.500000</td>\n",
              "    </tr>\n",
              "    <tr>\n",
              "      <th>OBJECTIVE</th>\n",
              "      <td>0.057115</td>\n",
              "      <td>0.000000</td>\n",
              "      <td>0.077591</td>\n",
              "      <td>0.000000</td>\n",
              "      <td>0.000000</td>\n",
              "      <td>0.090909</td>\n",
              "      <td>0.166667</td>\n",
              "    </tr>\n",
              "    <tr>\n",
              "      <th>RESULTS</th>\n",
              "      <td>0.557483</td>\n",
              "      <td>0.571429</td>\n",
              "      <td>0.131778</td>\n",
              "      <td>0.384615</td>\n",
              "      <td>0.466667</td>\n",
              "      <td>0.666667</td>\n",
              "      <td>0.722222</td>\n",
              "    </tr>\n",
              "  </tbody>\n",
              "</table>\n",
              "</div>\n",
              "      <button class=\"colab-df-convert\" onclick=\"convertToInteractive('df-3fad73a6-4cfb-486f-859e-22a4561662ac')\"\n",
              "              title=\"Convert this dataframe to an interactive table.\"\n",
              "              style=\"display:none;\">\n",
              "        \n",
              "  <svg xmlns=\"http://www.w3.org/2000/svg\" height=\"24px\"viewBox=\"0 0 24 24\"\n",
              "       width=\"24px\">\n",
              "    <path d=\"M0 0h24v24H0V0z\" fill=\"none\"/>\n",
              "    <path d=\"M18.56 5.44l.94 2.06.94-2.06 2.06-.94-2.06-.94-.94-2.06-.94 2.06-2.06.94zm-11 1L8.5 8.5l.94-2.06 2.06-.94-2.06-.94L8.5 2.5l-.94 2.06-2.06.94zm10 10l.94 2.06.94-2.06 2.06-.94-2.06-.94-.94-2.06-.94 2.06-2.06.94z\"/><path d=\"M17.41 7.96l-1.37-1.37c-.4-.4-.92-.59-1.43-.59-.52 0-1.04.2-1.43.59L10.3 9.45l-7.72 7.72c-.78.78-.78 2.05 0 2.83L4 21.41c.39.39.9.59 1.41.59.51 0 1.02-.2 1.41-.59l7.78-7.78 2.81-2.81c.8-.78.8-2.07 0-2.86zM5.41 20L4 18.59l7.72-7.72 1.47 1.35L5.41 20z\"/>\n",
              "  </svg>\n",
              "      </button>\n",
              "      \n",
              "  <style>\n",
              "    .colab-df-container {\n",
              "      display:flex;\n",
              "      flex-wrap:wrap;\n",
              "      gap: 12px;\n",
              "    }\n",
              "\n",
              "    .colab-df-convert {\n",
              "      background-color: #E8F0FE;\n",
              "      border: none;\n",
              "      border-radius: 50%;\n",
              "      cursor: pointer;\n",
              "      display: none;\n",
              "      fill: #1967D2;\n",
              "      height: 32px;\n",
              "      padding: 0 0 0 0;\n",
              "      width: 32px;\n",
              "    }\n",
              "\n",
              "    .colab-df-convert:hover {\n",
              "      background-color: #E2EBFA;\n",
              "      box-shadow: 0px 1px 2px rgba(60, 64, 67, 0.3), 0px 1px 3px 1px rgba(60, 64, 67, 0.15);\n",
              "      fill: #174EA6;\n",
              "    }\n",
              "\n",
              "    [theme=dark] .colab-df-convert {\n",
              "      background-color: #3B4455;\n",
              "      fill: #D2E3FC;\n",
              "    }\n",
              "\n",
              "    [theme=dark] .colab-df-convert:hover {\n",
              "      background-color: #434B5C;\n",
              "      box-shadow: 0px 1px 3px 1px rgba(0, 0, 0, 0.15);\n",
              "      filter: drop-shadow(0px 1px 2px rgba(0, 0, 0, 0.3));\n",
              "      fill: #FFFFFF;\n",
              "    }\n",
              "  </style>\n",
              "\n",
              "      <script>\n",
              "        const buttonEl =\n",
              "          document.querySelector('#df-3fad73a6-4cfb-486f-859e-22a4561662ac button.colab-df-convert');\n",
              "        buttonEl.style.display =\n",
              "          google.colab.kernel.accessAllowed ? 'block' : 'none';\n",
              "\n",
              "        async function convertToInteractive(key) {\n",
              "          const element = document.querySelector('#df-3fad73a6-4cfb-486f-859e-22a4561662ac');\n",
              "          const dataTable =\n",
              "            await google.colab.kernel.invokeFunction('convertToInteractive',\n",
              "                                                     [key], {});\n",
              "          if (!dataTable) return;\n",
              "\n",
              "          const docLinkHtml = 'Like what you see? Visit the ' +\n",
              "            '<a target=\"_blank\" href=https://colab.research.google.com/notebooks/data_table.ipynb>data table notebook</a>'\n",
              "            + ' to learn more about interactive tables.';\n",
              "          element.innerHTML = '';\n",
              "          dataTable['output_type'] = 'display_data';\n",
              "          await google.colab.output.renderOutput(dataTable, element);\n",
              "          const docLink = document.createElement('div');\n",
              "          docLink.innerHTML = docLinkHtml;\n",
              "          element.appendChild(docLink);\n",
              "        }\n",
              "      </script>\n",
              "    </div>\n",
              "  </div>\n",
              "  "
            ]
          },
          "metadata": {},
          "execution_count": 63
        }
      ]
    },
    {
      "cell_type": "markdown",
      "source": [
        "All target categories except background usually follow a standard order of `objective->methods->results->conclusion`."
      ],
      "metadata": {
        "id": "QDhnKQrv8OCO"
      }
    },
    {
      "cell_type": "markdown",
      "source": [
        "## Create Numeric Labels\n",
        "\n",
        "We will use label/one-hot encoding of target classes depending on the algorithm choice."
      ],
      "metadata": {
        "id": "lGPwoonwTcHS"
      }
    },
    {
      "cell_type": "code",
      "source": [
        "# create a list of class names and a dictionary for mapping to numeric label\n",
        "class_names = list(train_data['target'].value_counts().index)\n",
        "target_map = {name:i for i,name in enumerate(class_names)}\n",
        "print(f'Class names: {class_names}\\n')\n",
        "print(f'Target map: {target_map}\\n')\n",
        "\n",
        "# map target values to numeric labels \n",
        "train_labels = train_data['target'].replace(target_map).values\n",
        "valid_labels = valid_data['target'].replace(target_map).values\n",
        "test_labels = test_data['target'].replace(target_map).values\n",
        "\n",
        "# convert labels to one-hot vectors\n",
        "train_target = tf.keras.utils.to_categorical(train_labels, num_classes = 5)\n",
        "valid_target = tf.keras.utils.to_categorical(valid_labels, num_classes = 5)\n",
        "test_target = tf.keras.utils.to_categorical(test_labels, num_classes = 5)\n",
        "\n",
        "# view sample numeric labels\n",
        "sample_targets = train_data.target.values[:5]\n",
        "sample_numeric = train_labels[:5]\n",
        "sample_one_hot = train_target[:5]\n",
        "print(f'\\nTarget classes\\n {sample_targets}\\n\\nLabel encoded\\n {sample_numeric}')\n",
        "print(f'\\nOne-hot-encoded \\n{sample_one_hot}')\n"
      ],
      "metadata": {
        "colab": {
          "base_uri": "https://localhost:8080/"
        },
        "id": "tVZs5GGVJmeE",
        "outputId": "bb8efd17-fdf9-4e98-d98c-79d4c7b0b3dd"
      },
      "execution_count": null,
      "outputs": [
        {
          "output_type": "stream",
          "name": "stdout",
          "text": [
            "Class names: ['METHODS', 'RESULTS', 'CONCLUSIONS', 'BACKGROUND', 'OBJECTIVE']\n",
            "\n",
            "Target map: {'METHODS': 0, 'RESULTS': 1, 'CONCLUSIONS': 2, 'BACKGROUND': 3, 'OBJECTIVE': 4}\n",
            "\n",
            "\n",
            "Target classes\n",
            " ['OBJECTIVE' 'METHODS' 'METHODS' 'METHODS' 'METHODS']\n",
            "\n",
            "Label encoded\n",
            " [4 0 0 0 0]\n",
            "\n",
            "One-hot-encoded \n",
            "[[0. 0. 0. 0. 1.]\n",
            " [1. 0. 0. 0. 0.]\n",
            " [1. 0. 0. 0. 0.]\n",
            " [1. 0. 0. 0. 0.]\n",
            " [1. 0. 0. 0. 0.]]\n"
          ]
        }
      ]
    },
    {
      "cell_type": "markdown",
      "source": [
        "# Baseline Multinomial Naive Bayes Classifier\n",
        "\n",
        "Experiment 0 - Baseline model will be a TF-IDF Multinomial Naive Bayes as recommended by [Scikit-Learn's machine learning map](https://scikit-learn.org/stable/tutorial/machine_learning_map/index.html).\n",
        "\n",
        "In this model, text is converted to numbers using Tf–idf term weighting, then multinomial bayes classifier assigns sentences to one of 5 classes. We carry out these two steps in sklearn pipeline."
      ],
      "metadata": {
        "id": "6VJL-88ZLGDw"
      }
    },
    {
      "cell_type": "code",
      "source": [
        "# Create stopwords\n",
        "my_stop_words = text.ENGLISH_STOP_WORDS\n",
        "\n",
        "# Create a pipeline\n",
        "model_0 = Pipeline([\n",
        "    # convert our abstract sentences to numbers using the TF-IDF \n",
        "  (\"tf-idf\", TfidfVectorizer(stop_words=set(my_stop_words),max_features=30000, ngram_range=(1, 2))),\n",
        "   # classify the sentences using the MultinomialNB aglorithm\n",
        "   (\"clf\", MultinomialNB(alpha = 1))\n",
        "])\n",
        "         \n",
        "# Fit the pipeline to the training data\n",
        "model_0.fit(X=train_data['text'], \n",
        "            y=train_labels)"
      ],
      "metadata": {
        "colab": {
          "base_uri": "https://localhost:8080/"
        },
        "id": "ma8Yj8nNDkAE",
        "outputId": "d8e92619-1b91-4616-dfc1-63057b243f96"
      },
      "execution_count": null,
      "outputs": [
        {
          "output_type": "execute_result",
          "data": {
            "text/plain": [
              "Pipeline(steps=[('tf-idf',\n",
              "                 TfidfVectorizer(max_features=30000, ngram_range=(1, 2),\n",
              "                                 stop_words={'a', 'about', 'above', 'across',\n",
              "                                             'after', 'afterwards', 'again',\n",
              "                                             'against', 'all', 'almost',\n",
              "                                             'alone', 'along', 'already',\n",
              "                                             'also', 'although', 'always', 'am',\n",
              "                                             'among', 'amongst', 'amoungst',\n",
              "                                             'amount', 'an', 'and', 'another',\n",
              "                                             'any', 'anyhow', 'anyone',\n",
              "                                             'anything', 'anyway', 'anywhere', ...})),\n",
              "                ('clf', MultinomialNB(alpha=1))])"
            ]
          },
          "metadata": {},
          "execution_count": 12
        }
      ]
    },
    {
      "cell_type": "code",
      "source": [
        "# predict labels \n",
        "test_pred = model_0.predict(test_data['text'])\n",
        "\n",
        "# get performance metrics for the baseline model\n",
        "model_0_results = calculate_results(test_labels, test_pred)\n",
        "model_0_results"
      ],
      "metadata": {
        "colab": {
          "base_uri": "https://localhost:8080/"
        },
        "id": "L59FllWeDkC5",
        "outputId": "18b9bb05-41fb-4874-f746-6a3a3920d231"
      },
      "execution_count": null,
      "outputs": [
        {
          "output_type": "execute_result",
          "data": {
            "text/plain": [
              "{'accuracy': 73.49261655881864,\n",
              " 'precision': 0.7275978237183811,\n",
              " 'recall': 0.7349261655881865,\n",
              " 'f1': 0.7261892391839947}"
            ]
          },
          "metadata": {},
          "execution_count": 13
        }
      ]
    },
    {
      "cell_type": "code",
      "source": [
        "# Draw confusion matrix\n",
        "make_confusion_matrix(test_labels, test_pred, classes = class_names)"
      ],
      "metadata": {
        "colab": {
          "base_uri": "https://localhost:8080/",
          "height": 574
        },
        "id": "I0PfI4uU_9mT",
        "outputId": "b582f3e7-9979-4470-c3cf-71ed26ed0794"
      },
      "execution_count": null,
      "outputs": [
        {
          "output_type": "display_data",
          "data": {
            "text/plain": [
              "<Figure size 720x720 with 2 Axes>"
            ],
            "image/png": "[encoded data removed]"
          },
          "metadata": {
            "needs_background": "light"
          }
        }
      ]
    },
    {
      "cell_type": "markdown",
      "source": [
        "As expected, objective and background sentences are hardest to predict after. Overall, the performance is pretty bad."
      ],
      "metadata": {
        "id": "9KtVn0AdAsVe"
      }
    },
    {
      "cell_type": "markdown",
      "source": [
        "# Sequence + Pretrained Attention Models"
      ],
      "metadata": {
        "id": "gXnryud4QOLz"
      }
    },
    {
      "cell_type": "code",
      "source": [
        "# convert input text columns into a list\n",
        "train_text = train_data['text'].values.tolist()\n",
        "valid_text = valid_data['text'].values.tolist()\n",
        "test_text = test_data['text'].values.tolist()\n",
        "print(f'The number of sentences in train, validation, and test sets is {len(train_text), len(valid_text), len(test_text)}, respectively')"
      ],
      "metadata": {
        "colab": {
          "base_uri": "https://localhost:8080/"
        },
        "id": "mgJix3CcDkGt",
        "outputId": "eba30b4f-debc-45af-ead4-5cd3e7d1e2f5"
      },
      "execution_count": null,
      "outputs": [
        {
          "output_type": "stream",
          "name": "stdout",
          "text": [
            "The number of sentences in train, validation, and test sets is (180040, 30212, 30135), respectively\n"
          ]
        }
      ]
    },
    {
      "cell_type": "markdown",
      "source": [
        "## Model 1: Recurrent Neural Net with token embeddings\n",
        "Here we build our first deep learning model. All of our deep models will follow a similar structure:\n",
        "\n",
        "`Input (text) -> Tokenize -> Embedding -> Layers -> Output (label probability)`\n",
        "\n",
        "The main component we'll be changing throughout the notebook is the Layers component.\n",
        "\n",
        "The first model we are going to build is a 1-dimensional Convolutional Neural Network."
      ],
      "metadata": {
        "id": "XMC5WnMnyJ-A"
      }
    },
    {
      "cell_type": "markdown",
      "source": [
        "### Preparing data\n",
        "First, we convert our data into Tensorflow Dataset, then, we create vectorization and embedding layers for sequence models.\n",
        "\n",
        "The vectorization layer will convert our text to numbers and the embedding layer will capture the relationships between those numbers.\n",
        "\n",
        "To start creating our vectorization and embedding layers, we'll need to import the appropriate libraries (namely TensorFlow and NumPy)."
      ],
      "metadata": {
        "id": "ld_xGwlPyTQp"
      }
    },
    {
      "cell_type": "markdown",
      "source": [
        "Before converting our sentences into numerical sequences, we want all sequences to have a consistent length. For this, we are going to explore some statistics for the lenght of sentences.\n",
        "\n"
      ],
      "metadata": {
        "id": "ydeckniFQwXr"
      }
    },
    {
      "cell_type": "code",
      "source": [
        "print(f'Sequence length percentiles (10, 30, 50, 70, 90) are {tuple(np.percentile([len(sequence.split()) for sequence in train_text], [10, 30, 50, 70, 90]))}')"
      ],
      "metadata": {
        "colab": {
          "base_uri": "https://localhost:8080/"
        },
        "id": "7PJygqlBDkIP",
        "outputId": "785949af-0958-4d12-8469-4c0f4458767f"
      },
      "execution_count": null,
      "outputs": [
        {
          "output_type": "stream",
          "name": "stdout",
          "text": [
            "Sequence length percentiles (10, 30, 50, 70, 90) are (11.0, 17.0, 23.0, 31.0, 45.0)\n"
          ]
        }
      ]
    },
    {
      "cell_type": "markdown",
      "source": [
        "It seems that the median lenght of the sentence is 23, and it is less than 45 for 90% of the sequences."
      ],
      "metadata": {
        "id": "6g-2V4tUTBrU"
      }
    },
    {
      "cell_type": "markdown",
      "source": [
        "### Create text vectorizer\n",
        "\n",
        "We use the TextVectorization layer to convert text into numbers.\n",
        "\n",
        "Section 3.2 of the PubMed 200k RCT paper states the vocabulary size of the PubMed 20k dataset as 68,000. However, we will use smaller number - 30,000 - to reduce the number of trainable parameters for embedding layer. And since a sentence length of 31 covers 70% of the training sentences, we'll use that as our output_sequence_length parameter."
      ],
      "metadata": {
        "id": "BVVMTbpiU2ll"
      }
    },
    {
      "cell_type": "code",
      "source": [
        "# Create text vectorizer\n",
        "max_tokens = 30_000\n",
        "max_sequence_length = 31\n",
        "text_vectorizer = layers.TextVectorization(max_tokens = max_tokens,                       # number of words in vocabulary\n",
        "                                    output_sequence_length=max_sequence_length,    # desired output length of vectorized sequences\n",
        "                                    pad_to_max_tokens = True,\n",
        "                                    name = 'text_vectorizer')                      # this is to ensure consistent sequence length\n",
        "text_vectorizer.adapt(train_text)"
      ],
      "metadata": {
        "id": "rRUbKRozDkQU"
      },
      "execution_count": null,
      "outputs": []
    },
    {
      "cell_type": "code",
      "source": [
        "# Test out text vectorizer\n",
        "target_sentence = random.choice(train_text)\n",
        "print(f\"Text:\\n{target_sentence}\")\n",
        "print(f\"\\nLength of text: {len(target_sentence.split())}\")\n",
        "print(f\"\\nVectorized text:\\n{text_vectorizer([target_sentence])}\")"
      ],
      "metadata": {
        "colab": {
          "base_uri": "https://localhost:8080/"
        },
        "id": "qlfuRXVQDkYN",
        "outputId": "de64586e-6120-47b1-f53e-b57924486b6a"
      },
      "execution_count": null,
      "outputs": [
        {
          "output_type": "stream",
          "name": "stdout",
          "text": [
            "Text:\n",
            "an assessor-blinded randomized controlled trial was conducted among @ participants with a dsm-iv-tr diagnosis of primary ptsd .\n",
            "\n",
            "Length of text: 18\n",
            "\n",
            "Vectorized text:\n",
            "[[  26 6834   29  106   32   10  198  116   60    7    8 7376  536    4\n",
            "    56 1171    0    0    0    0    0    0    0    0    0    0    0    0\n",
            "     0    0    0]]\n"
          ]
        }
      ]
    },
    {
      "cell_type": "code",
      "source": [
        "# How many words in our training vocabulary?\n",
        "text_vocab_20 = text_vectorizer.get_vocabulary()\n",
        "print(f\"Number of words in vocabulary: {len(text_vocab_20)}\"), \n",
        "print(f\"Most common words in the vocabulary: {text_vocab_20[:5]}\")\n",
        "print(f\"Least common words in the vocabulary: {text_vocab_20[-5:]}\")"
      ],
      "metadata": {
        "colab": {
          "base_uri": "https://localhost:8080/"
        },
        "id": "9SrfeXYnDkfY",
        "outputId": "81adea43-ee1d-4371-9254-e798c476daec"
      },
      "execution_count": null,
      "outputs": [
        {
          "output_type": "stream",
          "name": "stdout",
          "text": [
            "Number of words in vocabulary: 30000\n",
            "Most common words in the vocabulary: ['', '[UNK]', 'the', 'and', 'of']\n",
            "Least common words in the vocabulary: ['mpfc', 'mpdac', 'moxifloxacincontaining', 'movers', 'movementsweek']\n"
          ]
        }
      ]
    },
    {
      "cell_type": "code",
      "source": [
        "# Create an inverse vocabulary\n",
        "inverse_vocab_20 = {i:word for i, word in enumerate(text_vocab_20)}\n",
        "# Convert vectorized text into a sentence\n",
        "print(f'Original sentence: \\n\\t{target_sentence}')\n",
        "print(f\"\\n\\nDecoded vectorized sentence\\n\\t{''.join([inverse_vocab_20[token]+' ' for token in text_vectorizer(target_sentence).numpy()])}\")"
      ],
      "metadata": {
        "colab": {
          "base_uri": "https://localhost:8080/"
        },
        "id": "L4vE526ZDkrW",
        "outputId": "304d967c-e77a-4dac-c9c4-8c63d2f7193b"
      },
      "execution_count": null,
      "outputs": [
        {
          "output_type": "stream",
          "name": "stdout",
          "text": [
            "Original sentence: \n",
            "\tan assessor-blinded randomized controlled trial was conducted among @ participants with a dsm-iv-tr diagnosis of primary ptsd .\n",
            "\n",
            "\n",
            "Decoded vectorized sentence\n",
            "\tan assessorblinded randomized controlled trial was conducted among participants with a dsmivtr diagnosis of primary ptsd                \n"
          ]
        }
      ]
    },
    {
      "cell_type": "markdown",
      "source": [
        "### Create custom text embedding\n",
        "The token_vectorization layer maps the words in our text directly to numbers. However, this doesn't necessarily capture the relationships between those numbers.\n",
        "\n",
        "To create a richer numerical representation of our text, we can use an embedding where each word is represented by a vector such that similar words have similar vector representation (e.g., king - man + woman = queen). \n",
        "\n",
        "As the model learns (by going through many different examples of abstract sentences and their labels), it'll update its embedding to better represent the relationships between tokens in our corpus.\n",
        "\n",
        "The main parameters of the embedding layer are the input dim (vocab size) and output dim (embedding vector length) , and max input length (max sequence length)."
      ],
      "metadata": {
        "id": "JLuFwvD6Zs3Z"
      }
    },
    {
      "cell_type": "code",
      "source": [
        "# Create token embedding layer\n",
        "token_embed = layers.Embedding(input_dim = max_tokens, # length of vocabulary\n",
        "                               output_dim = 256,       # Note: This is the main dimension affecting the number of trainable parameters\n",
        "                               mask_zero = True, \n",
        "                               name=\"token_embedding\") \n",
        "\n",
        "# Show example embedding\n",
        "print(f\"Sentence before vectorization:\\n{target_sentence}\\n\")\n",
        "vectorized_sentence = text_vectorizer([target_sentence])\n",
        "print(f\"Sentence after vectorization (before embedding):\\n{vectorized_sentence}\\n\")\n",
        "embedded_sentence = token_embed(vectorized_sentence)\n",
        "print(f\"Sentence after embedding:\\n{embedded_sentence}\\n\")\n",
        "print(f\"Embedded sentence shape: {embedded_sentence.shape}\")"
      ],
      "metadata": {
        "colab": {
          "base_uri": "https://localhost:8080/"
        },
        "id": "j8bcxAbuDkx1",
        "outputId": "1669a9e1-edd7-44e5-92b0-0fc3e1401446"
      },
      "execution_count": null,
      "outputs": [
        {
          "output_type": "stream",
          "name": "stdout",
          "text": [
            "Sentence before vectorization:\n",
            "an assessor-blinded randomized controlled trial was conducted among @ participants with a dsm-iv-tr diagnosis of primary ptsd .\n",
            "\n",
            "Sentence after vectorization (before embedding):\n",
            "[[  26 6834   29  106   32   10  198  116   60    7    8 7376  536    4\n",
            "    56 1171    0    0    0    0    0    0    0    0    0    0    0    0\n",
            "     0    0    0]]\n",
            "\n",
            "Sentence after embedding:\n",
            "[[[-0.02888619 -0.03856571 -0.04719892 ... -0.00212596  0.01339102\n",
            "    0.04252826]\n",
            "  [ 0.0035943  -0.04514241 -0.03198235 ... -0.02215425  0.01619228\n",
            "    0.04645107]\n",
            "  [ 0.02573747 -0.04185289 -0.03183478 ... -0.00948446 -0.04504157\n",
            "   -0.01531164]\n",
            "  ...\n",
            "  [-0.04245117  0.03671554  0.01750456 ...  0.03166676 -0.01444143\n",
            "   -0.03690075]\n",
            "  [-0.04245117  0.03671554  0.01750456 ...  0.03166676 -0.01444143\n",
            "   -0.03690075]\n",
            "  [-0.04245117  0.03671554  0.01750456 ...  0.03166676 -0.01444143\n",
            "   -0.03690075]]]\n",
            "\n",
            "Embedded sentence shape: (1, 31, 256)\n"
          ]
        }
      ]
    },
    {
      "cell_type": "markdown",
      "source": [
        "### Create datasets \n",
        "\n",
        "\n",
        "We will use tf.data Api for input pipelines which loads our data onto the GPU as fast as possible, in turn leading to faster training time. \n",
        "\n",
        "The main step is to turn it into a batched PrefetchDataset of batches.\n",
        "\n",
        "We also use positional data in addition to textual data. The positional encoding is given by `line_pos = line_number / total_lines` which represents the relative position of a sentence in an abstract."
      ],
      "metadata": {
        "id": "IvBtVtP7c0in"
      }
    },
    {
      "cell_type": "code",
      "source": [
        "AUTOTUNE = tf.data.AUTOTUNE\n",
        "batch_size = 32\n",
        "\n",
        "# build tf dataset\n",
        "train_ds = tf.data.Dataset.from_tensor_slices(((train_text, train_data['line_pos'].values[..., None]), train_target))\n",
        "valid_ds = tf.data.Dataset.from_tensor_slices(((valid_text, valid_data['line_pos'].values[..., None]), valid_target))\n",
        "test_ds = tf.data.Dataset.from_tensor_slices(((test_text, test_data['line_pos'].values[..., None]), test_target))\n",
        "\n",
        "# convert datasets into batched prefetched datasets\n",
        "train_dataset = train_ds.shuffle(10000).batch(batch_size).prefetch(AUTOTUNE)\n",
        "valid_dataset = valid_ds.batch(batch_size).prefetch(AUTOTUNE)\n",
        "test_dataset = test_ds.batch(batch_size).prefetch(AUTOTUNE)\n",
        "\n",
        "for (text, pos), labels in train_dataset.take(1):\n",
        "  print(text.shape)    # batch of sequences\n",
        "  print(labels.shape)  # batch of one-hot encoded labels"
      ],
      "metadata": {
        "colab": {
          "base_uri": "https://localhost:8080/"
        },
        "id": "y8wyTExSDk0V",
        "outputId": "a647ab5f-b3e9-4b63-c991-41cba3a6a97d"
      },
      "execution_count": null,
      "outputs": [
        {
          "output_type": "stream",
          "name": "stdout",
          "text": [
            "(32,)\n",
            "(32, 5)\n"
          ]
        }
      ]
    },
    {
      "cell_type": "code",
      "source": [
        "# Create 1D convolutional model to process sequences\n",
        "text_inputs = layers.Input(shape=(1,), dtype=tf.string) # create layers for the text input\n",
        "text_vectors = text_vectorizer(text_inputs)  # vectorize text inputs\n",
        "token_embeddings = token_embed(text_vectors)  # create embedding\n",
        "x = layers.Bidirectional(layers.LSTM(128, 'tanh', return_sequences = True))(token_embeddings)\n",
        "x = layers.Conv1D(64, 5, activation = 'relu')(x)\n",
        "x = layers.GlobalAveragePooling1D()(x)\n",
        "x = layers.Dense(32, 'relu')(x)\n",
        "pos_inputs = layers.Input(shape = [1,])  # create layers for the positional input\n",
        "y = layers.Dense(32,'relu')(pos_inputs)\n",
        "z = layers.concatenate([x,y]) # combine dense outputs of two input streams\n",
        "outputs = layers.Dense(5, activation=\"softmax\")(z)  # finds the probabilities of each category\n",
        "model_1 = tf.keras.Model([text_inputs,pos_inputs], outputs)  # combine the layers into a keras model\n",
        "\n",
        "# Compile\n",
        "model_1.compile(loss=\"categorical_crossentropy\", # if your labels are integer form (not one hot) use sparse_categorical_crossentropy\n",
        "                optimizer=tf.keras.optimizers.Adam(),\n",
        "                metrics=[\"accuracy\"])\n",
        "model_1.summary()"
      ],
      "metadata": {
        "colab": {
          "base_uri": "https://localhost:8080/"
        },
        "id": "agHXmXtQDk1k",
        "outputId": "f46685a9-5a18-4265-d15a-3e699e956497"
      },
      "execution_count": null,
      "outputs": [
        {
          "output_type": "stream",
          "name": "stdout",
          "text": [
            "Model: \"model_1\"\n",
            "__________________________________________________________________________________________________\n",
            " Layer (type)                   Output Shape         Param #     Connected to                     \n",
            "==================================================================================================\n",
            " input_10 (InputLayer)          [(None, 1)]          0           []                               \n",
            "                                                                                                  \n",
            " text_vectorizer (TextVectoriza  (None, 31)          0           ['input_10[0][0]']               \n",
            " tion)                                                                                            \n",
            "                                                                                                  \n",
            " token_embedding (Embedding)    (None, 31, 256)      7680000     ['text_vectorizer[5][0]']        \n",
            "                                                                                                  \n",
            " bidirectional_5 (Bidirectional  (None, 31, 256)     394240      ['token_embedding[5][0]']        \n",
            " )                                                                                                \n",
            "                                                                                                  \n",
            " conv1d_5 (Conv1D)              (None, 27, 64)       81984       ['bidirectional_5[0][0]']        \n",
            "                                                                                                  \n",
            " global_average_pooling1d (Glob  (None, 64)          0           ['conv1d_5[0][0]']               \n",
            " alAveragePooling1D)                                                                              \n",
            "                                                                                                  \n",
            " input_11 (InputLayer)          [(None, 1)]          0           []                               \n",
            "                                                                                                  \n",
            " dense_5 (Dense)                (None, 32)           2080        ['global_average_pooling1d[0][0]'\n",
            "                                                                 ]                                \n",
            "                                                                                                  \n",
            " dense_6 (Dense)                (None, 32)           64          ['input_11[0][0]']               \n",
            "                                                                                                  \n",
            " concatenate_2 (Concatenate)    (None, 64)           0           ['dense_5[0][0]',                \n",
            "                                                                  'dense_6[0][0]']                \n",
            "                                                                                                  \n",
            " dense_7 (Dense)                (None, 5)            325         ['concatenate_2[0][0]']          \n",
            "                                                                                                  \n",
            "==================================================================================================\n",
            "Total params: 8,158,693\n",
            "Trainable params: 8,158,693\n",
            "Non-trainable params: 0\n",
            "__________________________________________________________________________________________________\n"
          ]
        }
      ]
    },
    {
      "cell_type": "code",
      "source": [
        "# Fit the model\n",
        "model_1_history = model_1.fit(train_dataset,\n",
        "                              epochs=1,\n",
        "                              validation_data=valid_dataset)"
      ],
      "metadata": {
        "colab": {
          "base_uri": "https://localhost:8080/"
        },
        "id": "1ncrdPzGDk5H",
        "outputId": "89857706-789a-48df-d2cb-2bf027fecda2"
      },
      "execution_count": null,
      "outputs": [
        {
          "output_type": "stream",
          "name": "stdout",
          "text": [
            "5627/5627 [==============================] - 131s 21ms/step - loss: 0.4113 - accuracy: 0.8484 - val_loss: 0.3163 - val_accuracy: 0.8828\n"
          ]
        }
      ]
    },
    {
      "cell_type": "code",
      "source": [
        "# Visualise model_1 results\n",
        "test_preds = tf.argmax(model_1.predict(test_dataset), axis = 1)\n",
        "make_confusion_matrix(test_labels, test_preds, classes = class_names)"
      ],
      "metadata": {
        "colab": {
          "base_uri": "https://localhost:8080/",
          "height": 598
        },
        "id": "bwziNB2ODk6V",
        "outputId": "21debc0d-60b4-435d-a256-a81b6108e6b5"
      },
      "execution_count": null,
      "outputs": [
        {
          "output_type": "stream",
          "name": "stdout",
          "text": [
            "942/942 [==============================] - 7s 5ms/step\n"
          ]
        },
        {
          "output_type": "display_data",
          "data": {
            "text/plain": [
              "<Figure size 720x720 with 2 Axes>"
            ],
            "image/png": "[encoded data removed]"
          },
          "metadata": {
            "needs_background": "light"
          }
        }
      ]
    },
    {
      "cell_type": "code",
      "source": [
        "# Calculate main metrics for model 1\n",
        "model_1_results = calculate_results(test_labels, test_preds)\n",
        "print(model_1_results)\n",
        "print(classification_report(test_labels, test_preds))"
      ],
      "metadata": {
        "colab": {
          "base_uri": "https://localhost:8080/"
        },
        "id": "3ku023OJHj13",
        "outputId": "60c48c4e-02a5-4339-d195-b034b32f446b"
      },
      "execution_count": null,
      "outputs": [
        {
          "output_type": "stream",
          "name": "stdout",
          "text": [
            "{'accuracy': 87.80819644931142, 'precision': 0.878558068208608, 'recall': 0.8780819644931143, 'f1': 0.8758092442590242}\n",
            "              precision    recall  f1-score   support\n",
            "\n",
            "           0       0.89      0.95      0.92      9897\n",
            "           1       0.92      0.91      0.91      9713\n",
            "           2       0.94      0.88      0.91      4571\n",
            "           3       0.72      0.82      0.77      3621\n",
            "           4       0.78      0.53      0.63      2333\n",
            "\n",
            "    accuracy                           0.88     30135\n",
            "   macro avg       0.85      0.82      0.83     30135\n",
            "weighted avg       0.88      0.88      0.88     30135\n",
            "\n"
          ]
        }
      ]
    },
    {
      "cell_type": "markdown",
      "source": [
        "There is a 10% improvement in the accuracy score compared to the baseline model. However, we are still not able to differentiate objective sentences from background sentences very vell."
      ],
      "metadata": {
        "id": "LZKEBixYHyS5"
      }
    },
    {
      "cell_type": "markdown",
      "source": [
        "## Model 2: Feature extraction with pretrained (with Attention mechanism) token embeddings\n",
        "\n",
        "Since we're moving towards replicating the model architecture in Neural Networks for Joint Sentence Classification in Medical Paper Abstracts, it mentions they used a pretrained GloVe embedding as a way to initialise their token embeddings.\n",
        "\n",
        "To emulate this, let's see what results we can get with the pretrained Universal Sentence Encoder embeddings from TensorFlow Hub.\n",
        "\n",
        ">`🔑 Note: We do not use GloVe embeddings as per the paper, since we're working with TensorFlow, and GloVe embeddings aren't available at TensorFlow Hub.\n",
        "\n",
        "We use embeddings from [BERT](https://tfhub.dev/google/experts/bert/pubmed/2) architecture pretrained from scratch  on MEDLINE/PubMed.\n",
        "\n",
        "For this we will load a preprocessing and bert encoder from Tensorflow Hub and convert them to keras layers.\n",
        "\n",
        "The model structure will look like:\n",
        "\n",
        ">`Inputs (string) -> Preprocessing layer --> Bert Encoder -> Dense Layer -> Output (prediction probabilities)`\n",
        "\n",
        "\n"
      ],
      "metadata": {
        "id": "cTGgxbC62JcH"
      }
    },
    {
      "cell_type": "markdown",
      "source": [
        "### Load Bert PubMed Model and Preprocessor"
      ],
      "metadata": {
        "id": "ly2NscOwximM"
      }
    },
    {
      "cell_type": "code",
      "source": [
        "# Source https://tfhub.dev/google/experts/bert/pubmed/2\n",
        "# Define sample sentences to feed into the model\n",
        "sentences = [\n",
        "  \"Here We Go Then, You And I is a 1999 album by Norwegian pop artist Morten Abel. It was Abel's second CD as a solo artist.\",\n",
        "  \"The album went straight to number one on the Norwegian album chart, and sold to double platinum.\",\n",
        "  \"Ceylon spinach is a common name for several plants and may refer to: Basella alba Talinum fruticosum\",\n",
        "  \"A solar eclipse occurs when the Moon passes between Earth and the Sun, thereby totally or partly obscuring the image of the Sun for a viewer on Earth.\",\n",
        "  \"A partial solar eclipse occurs in the polar regions of the Earth when the center of the Moon's shadow misses the Earth.\",\n",
        "]\n",
        "print(f'Original input shape:\\t{np.array(sentences).shape}')\n",
        "\n",
        "# Load the BERT encoder and preprocessing models and convert them into keras layers\n",
        "preprocess = hub.KerasLayer('https://tfhub.dev/tensorflow/bert_en_uncased_preprocess/3',\n",
        "                                        trainable=False,\n",
        "                                        name=\"preprocess\")\n",
        "bert = hub.KerasLayer('https://tfhub.dev/google/experts/bert/pubmed/2',\n",
        "                       trainable=False,\n",
        "                       name=\"bert\")\n",
        "\n",
        "# Convert the sample sentences to bert inputs\n",
        "bert_inputs = preprocess(sentences)\n",
        "print(f\"Preprocessed input shape: \\t{bert_inputs['input_word_ids'].shape}\")\n",
        "# Feed the inputs to the model to get the pooled and sequence outputs\n",
        "bert_outputs = bert(bert_inputs, training=False)\n",
        "print(f\"Pooled bert output shape: \\t{bert_outputs['pooled_output'].shape}\")\n"
      ],
      "metadata": {
        "colab": {
          "base_uri": "https://localhost:8080/"
        },
        "id": "l9eIDWsbVKcT",
        "outputId": "6ef56c4e-476c-4b55-982b-c4edf3c2c481"
      },
      "execution_count": null,
      "outputs": [
        {
          "output_type": "stream",
          "name": "stderr",
          "text": [
            "WARNING:tensorflow:Please fix your imports. Module tensorflow.python.training.tracking.data_structures has been moved to tensorflow.python.trackable.data_structures. The old module will be deleted in version 2.11.\n"
          ]
        },
        {
          "output_type": "stream",
          "name": "stdout",
          "text": [
            "Original input shape:\t(5,)\n",
            "Preprocessed input shape: \t(5, 128)\n",
            "Pooled bert output shape: \t(5, 768)\n"
          ]
        }
      ]
    },
    {
      "cell_type": "markdown",
      "source": [
        "### Build Transfer Learning Model"
      ],
      "metadata": {
        "id": "b5u09Ujcxpmu"
      }
    },
    {
      "cell_type": "code",
      "source": [
        "# Build a model with with pretrained Bert embeddings\n",
        "inputs = layers.Input(shape=[], dtype=tf.string)\n",
        "x = preprocess(inputs) # preprocess and vectorization layer\n",
        "x = bert(x)  # non-trainable pretrained bert layer\n",
        "x = layers.Dense(128, 'relu')(x['pooled_output']) # trainable dense layer on top of pretrained embeddings\n",
        "inputs1 = layers.Input(shape=[1,])\n",
        "x1 = layers.Dense(32, 'relu')(inputs1)\n",
        "x = layers.concatenate([x,x1])\n",
        "outputs = layers.Dense(5, activation=\"softmax\")(x)  # output layer\n",
        "\n",
        "# combine layers into keras Model\n",
        "model_2 = tf.keras.Model(inputs=[inputs,inputs1],\n",
        "                        outputs=outputs)\n",
        "# Compile the model\n",
        "model_2.compile(loss=\"categorical_crossentropy\",\n",
        "                optimizer=tf.keras.optimizers.Adam(),\n",
        "                metrics=[\"accuracy\"])\n",
        "model_2.summary()"
      ],
      "metadata": {
        "colab": {
          "base_uri": "https://localhost:8080/"
        },
        "id": "ziAI5iqJXMf8",
        "outputId": "2e306346-2f81-4ac7-ee09-96ef05da4250"
      },
      "execution_count": null,
      "outputs": [
        {
          "output_type": "stream",
          "name": "stderr",
          "text": [
            "WARNING:tensorflow:From /usr/local/lib/python3.8/dist-packages/tensorflow/python/autograph/pyct/static_analysis/liveness.py:83: Analyzer.lamba_check (from tensorflow.python.autograph.pyct.static_analysis.liveness) is deprecated and will be removed after 2023-09-23.\n",
            "Instructions for updating:\n",
            "Lambda fuctions will be no more assumed to be used in the statement where they are used, or at least in the same block. https://github.com/tensorflow/tensorflow/issues/56089\n"
          ]
        },
        {
          "output_type": "stream",
          "name": "stdout",
          "text": [
            "Model: \"model\"\n",
            "__________________________________________________________________________________________________\n",
            " Layer (type)                   Output Shape         Param #     Connected to                     \n",
            "==================================================================================================\n",
            " input_1 (InputLayer)           [(None,)]            0           []                               \n",
            "                                                                                                  \n",
            " preprocess (KerasLayer)        {'input_type_ids':   0           ['input_1[0][0]']                \n",
            "                                (None, 128),                                                      \n",
            "                                 'input_mask': (Non                                               \n",
            "                                e, 128),                                                          \n",
            "                                 'input_word_ids':                                                \n",
            "                                (None, 128)}                                                      \n",
            "                                                                                                  \n",
            " bert (KerasLayer)              {'sequence_output':  109482241   ['preprocess[0][0]',             \n",
            "                                 (None, 128, 768),                'preprocess[0][1]',             \n",
            "                                 'pooled_output': (               'preprocess[0][2]']             \n",
            "                                None, 768),                                                       \n",
            "                                 'default': (None,                                                \n",
            "                                768),                                                             \n",
            "                                 'encoder_outputs':                                               \n",
            "                                 [(None, 128, 768),                                               \n",
            "                                 (None, 128, 768),                                                \n",
            "                                 (None, 128, 768),                                                \n",
            "                                 (None, 128, 768),                                                \n",
            "                                 (None, 128, 768),                                                \n",
            "                                 (None, 128, 768),                                                \n",
            "                                 (None, 128, 768),                                                \n",
            "                                 (None, 128, 768),                                                \n",
            "                                 (None, 128, 768),                                                \n",
            "                                 (None, 128, 768),                                                \n",
            "                                 (None, 128, 768),                                                \n",
            "                                 (None, 128, 768)]}                                               \n",
            "                                                                                                  \n",
            " input_2 (InputLayer)           [(None, 1)]          0           []                               \n",
            "                                                                                                  \n",
            " dense (Dense)                  (None, 128)          98432       ['bert[0][13]']                  \n",
            "                                                                                                  \n",
            " dense_1 (Dense)                (None, 32)           64          ['input_2[0][0]']                \n",
            "                                                                                                  \n",
            " concatenate (Concatenate)      (None, 160)          0           ['dense[0][0]',                  \n",
            "                                                                  'dense_1[0][0]']                \n",
            "                                                                                                  \n",
            " dense_2 (Dense)                (None, 5)            805         ['concatenate[0][0]']            \n",
            "                                                                                                  \n",
            "==================================================================================================\n",
            "Total params: 109,581,542\n",
            "Trainable params: 99,301\n",
            "Non-trainable params: 109,482,241\n",
            "__________________________________________________________________________________________________\n"
          ]
        }
      ]
    },
    {
      "cell_type": "code",
      "source": [
        "# Fit feature extractor model for 2 epochs\n",
        "model_2.fit(train_dataset,\n",
        "            epochs=1,\n",
        "            validation_data=valid_dataset)"
      ],
      "metadata": {
        "colab": {
          "base_uri": "https://localhost:8080/"
        },
        "id": "YkCVnUukYRYY",
        "outputId": "05425fc0-8185-47a7-f1eb-2623598aa85c"
      },
      "execution_count": null,
      "outputs": [
        {
          "output_type": "stream",
          "name": "stdout",
          "text": [
            "5627/5627 [==============================] - 2042s 361ms/step - loss: 0.3418 - accuracy: 0.8758 - val_loss: 0.2957 - val_accuracy: 0.8912\n"
          ]
        },
        {
          "output_type": "execute_result",
          "data": {
            "text/plain": [
              "<keras.callbacks.History at 0x7f1b561ee400>"
            ]
          },
          "metadata": {},
          "execution_count": 21
        }
      ]
    },
    {
      "cell_type": "code",
      "source": [
        "# Calculate test metrics for model_2\n",
        "test_preds = tf.argmax(model_2.predict(test_dataset),1)\n",
        "model_2_results = calculate_results(test_labels, test_preds)\n",
        "print(model_2_results)\n",
        "print(classification_report(test_labels, test_preds))"
      ],
      "metadata": {
        "colab": {
          "base_uri": "https://localhost:8080/"
        },
        "id": "geHtxCbhevD6",
        "outputId": "1f810dd4-ded0-4348-deda-93c7db2e7c40"
      },
      "execution_count": null,
      "outputs": [
        {
          "output_type": "stream",
          "name": "stdout",
          "text": [
            "942/942 [==============================] - 289s 306ms/step\n",
            "{'accuracy': 88.68757259001161, 'precision': 0.8931690013908782, 'recall': 0.8868757259001161, 'f1': 0.8826460844949848}\n",
            "              precision    recall  f1-score   support\n",
            "\n",
            "           0       0.92      0.95      0.94      9897\n",
            "           1       0.91      0.94      0.92      9713\n",
            "           2       0.97      0.86      0.91      4571\n",
            "           3       0.69      0.90      0.78      3621\n",
            "           4       0.85      0.44      0.58      2333\n",
            "\n",
            "    accuracy                           0.89     30135\n",
            "   macro avg       0.87      0.82      0.83     30135\n",
            "weighted avg       0.89      0.89      0.88     30135\n",
            "\n"
          ]
        }
      ]
    },
    {
      "cell_type": "code",
      "source": [
        "# Create confusion matrix\n",
        "make_confusion_matrix(test_labels, test_preds, classes = class_names)"
      ],
      "metadata": {
        "colab": {
          "base_uri": "https://localhost:8080/",
          "height": 580
        },
        "id": "UU2t1Z7-VF31",
        "outputId": "08d83e51-14bb-4c9a-a391-b650768fb560"
      },
      "execution_count": null,
      "outputs": [
        {
          "output_type": "display_data",
          "data": {
            "text/plain": [
              "<Figure size 720x720 with 2 Axes>"
            ],
            "image/png": "[encoded data removed]"
          },
          "metadata": {
            "needs_background": "light"
          }
        }
      ]
    },
    {
      "cell_type": "markdown",
      "source": [
        "Overall performance is much better than the model 1, but it performs worse on Objective sentences. It can detect only 40 percent of objective sentences, and predicts most of the remaining as background sentence.\n"
      ],
      "metadata": {
        "id": "f6URZX4W0JJ3"
      }
    },
    {
      "cell_type": "markdown",
      "source": [
        "## Model 3: Conv1D with character Embeddings"
      ],
      "metadata": {
        "id": "mf9v88WbPXmP"
      }
    },
    {
      "cell_type": "markdown",
      "source": [
        "### Creating a character-level tokenizer\n",
        "\n",
        "The Neural Networks for Joint Sentence Classification in [Medical Paper Abstracts](https://arxiv.org/pdf/1612.05251.pdf) paper uses a hybrid of token and character embeddings.\n",
        "\n",
        "In models 1 and 2, we have tried a custom token embedding and a pretrained token embedding, and in model 3, we are going to use character embedding."
      ],
      "metadata": {
        "id": "usNcOKT-06R9"
      }
    },
    {
      "cell_type": "code",
      "source": [
        "# Make function to split sentences into characters\n",
        "def split_chars(text):\n",
        "  return \" \".join(list(text))\n",
        "print(f\"'Sample text' --> '{split_chars('Sample text')}'\")"
      ],
      "metadata": {
        "colab": {
          "base_uri": "https://localhost:8080/"
        },
        "id": "JKQ1v19aPW8Z",
        "outputId": "047c7a7a-80bf-4ccb-c412-078c4c1aac6b"
      },
      "execution_count": null,
      "outputs": [
        {
          "output_type": "stream",
          "name": "stdout",
          "text": [
            "'Sample text' --> 'S a m p l e   t e x t'\n"
          ]
        }
      ]
    },
    {
      "cell_type": "code",
      "source": [
        "# Split sequence-level data splits into character-level data splits\n",
        "train_chars = [split_chars(sentence) for sentence in train_text]\n",
        "val_chars = [split_chars(sentence) for sentence in valid_text]\n",
        "test_chars = [split_chars(sentence) for sentence in test_text]\n",
        "print(train_chars[0])"
      ],
      "metadata": {
        "colab": {
          "base_uri": "https://localhost:8080/"
        },
        "id": "SMulCaM81zGb",
        "outputId": "e175bee7-8315-42c1-8498-d41c9696200d"
      },
      "execution_count": null,
      "outputs": [
        {
          "output_type": "stream",
          "name": "stdout",
          "text": [
            "t o   i n v e s t i g a t e   t h e   e f f i c a c y   o f   @   w e e k s   o f   d a i l y   l o w - d o s e   o r a l   p r e d n i s o l o n e   i n   i m p r o v i n g   p a i n   ,   m o b i l i t y   ,   a n d   s y s t e m i c   l o w - g r a d e   i n f l a m m a t i o n   i n   t h e   s h o r t   t e r m   a n d   w h e t h e r   t h e   e f f e c t   w o u l d   b e   s u s t a i n e d   a t   @   w e e k s   i n   o l d e r   a d u l t s   w i t h   m o d e r a t e   t o   s e v e r e   k n e e   o s t e o a r t h r i t i s   (   o a   )   .\n"
          ]
        }
      ]
    },
    {
      "cell_type": "code",
      "source": [
        "# Find what character length covers 95% of sequences\n",
        "output_seq_char_len = int(np.percentile([len(sentence) for sentence in train_text], 95))\n",
        "output_seq_char_len"
      ],
      "metadata": {
        "colab": {
          "base_uri": "https://localhost:8080/"
        },
        "id": "V7t4bZkn15E5",
        "outputId": "332bf3f4-9d92-4b95-c7fb-3ced4c4f54c1"
      },
      "execution_count": null,
      "outputs": [
        {
          "output_type": "execute_result",
          "data": {
            "text/plain": [
              "290"
            ]
          },
          "metadata": {},
          "execution_count": 70
        }
      ]
    },
    {
      "cell_type": "code",
      "source": [
        "# Get all keyboard characters for char-level embedding\n",
        "alphabet = string.ascii_lowercase + string.digits + string.punctuation\n",
        "     \n",
        "# Create char-level token vectorizer instance\n",
        "NUM_CHAR_TOKENS = len(alphabet) + 2 # num characters in alphabet + space + OOV token\n",
        "char_vectorizer = layers.TextVectorization(max_tokens=NUM_CHAR_TOKENS,  \n",
        "                                    output_sequence_length=output_seq_char_len,\n",
        "                                    standardize=\"lower_and_strip_punctuation\",\n",
        "                                    name=\"char_vectorizer\")\n",
        "\n",
        "# Adapt character vectorizer to training characters\n",
        "char_vectorizer.adapt(train_chars)\n",
        "\n",
        "# Create char embedding layer\n",
        "char_embed = layers.Embedding(input_dim=NUM_CHAR_TOKENS, # number of different characters\n",
        "                              output_dim=25, # embedding dimension of each character (same as Figure 1 in https://arxiv.org/pdf/1612.05251.pdf)\n",
        "                              mask_zero=False, # don't use masks (this messes up model_5 if set to True)\n",
        "                              name=\"char_embed\")\n",
        "\n",
        "# Test out character embedding layer\n",
        "random_train_chars = random.choice(train_chars)\n",
        "print(f\"Charified text (before vectorization and embedding):\\n{random_train_chars}\\n\")\n",
        "char_embed_example = char_embed(char_vectorizer([random_train_chars]))\n",
        "print(f\"Embedded chars (after vectorization and embedding):\\n{char_embed_example}\\n\")\n",
        "print(f\"Character embedding shape: {char_embed_example.shape}\")"
      ],
      "metadata": {
        "colab": {
          "base_uri": "https://localhost:8080/"
        },
        "id": "hSk10ZSI2UZI",
        "outputId": "6141d2b3-1a17-4c5f-f392-7be182eca7f6"
      },
      "execution_count": null,
      "outputs": [
        {
          "output_type": "stream",
          "name": "stdout",
          "text": [
            "Charified text (before vectorization and embedding):\n",
            "p y r i f o r m   s i n u s   l o c a l i z a t i o n - a s s i s t e d   b l i n d   o r o t r a c h e a l   i n t u b a t i o n   w a s   s h o w n   t o   b e   m o r e   e f f e c t i v e   t h a n   c o n v e n t i o n a l   l a r y n g o s c o p i c   o r o t r a c h e a l   i n t u b a t i o n   i n   t e r m s   o f   s u c c e s s   r a t e   ,   i n t u b a t i o n   t i m e   ,   a n d   p o s t o p e r a t i v e   c o m p l i c a t i o n   r a t e   .\n",
            "\n",
            "Embedded chars (after vectorization and embedding):\n",
            "[[[-0.01825935  0.01104826  0.03294636 ...  0.04516157  0.0164954\n",
            "   -0.00262884]\n",
            "  [-0.04971379 -0.0472456   0.0026673  ...  0.00553247  0.03682283\n",
            "   -0.0029126 ]\n",
            "  [ 0.03740621 -0.02262765 -0.00514733 ... -0.01945049 -0.02902082\n",
            "   -0.04694089]\n",
            "  ...\n",
            "  [-0.00280442 -0.03381069  0.04696467 ...  0.04638871  0.00659662\n",
            "   -0.04962163]\n",
            "  [-0.00280442 -0.03381069  0.04696467 ...  0.04638871  0.00659662\n",
            "   -0.04962163]\n",
            "  [-0.00280442 -0.03381069  0.04696467 ...  0.04638871  0.00659662\n",
            "   -0.04962163]]]\n",
            "\n",
            "Character embedding shape: (1, 290, 25)\n"
          ]
        }
      ]
    },
    {
      "cell_type": "markdown",
      "source": [
        "### Build and Train Model"
      ],
      "metadata": {
        "id": "LC_DcKXhxbU0"
      }
    },
    {
      "cell_type": "code",
      "source": [
        "# Make Conv1D on chars only\n",
        "inputs_text = layers.Input(shape=(1,), dtype=\"string\")\n",
        "char_vectors = char_vectorizer(inputs_text)\n",
        "char_embeddings = char_embed(char_vectors)\n",
        "x = layers.Conv1D(64, kernel_size=5, padding=\"same\", activation=\"relu\")(char_embeddings)\n",
        "x = layers.GlobalMaxPool1D()(x)\n",
        "\n",
        "inputs_pos = layers.Input(shape = [1,])\n",
        "y = layers.Dense(16, 'relu')(inputs_pos)\n",
        "z = layers.concatenate([x,y])\n",
        "outputs = layers.Dense(5, activation=\"softmax\")(x)\n",
        "model_3 = tf.keras.Model(inputs=[inputs_text,inputs_pos],\n",
        "                         outputs=outputs,\n",
        "                         name=\"model_3_conv1D_char_embedding\")\n",
        "\n",
        "# Compile model\n",
        "model_3.compile(loss=\"categorical_crossentropy\",\n",
        "                optimizer=tf.keras.optimizers.Adam(),\n",
        "                metrics=[\"accuracy\"])\n",
        "\n",
        "# Check the summary of conv1d_char_model\n",
        "model_3.summary()"
      ],
      "metadata": {
        "colab": {
          "base_uri": "https://localhost:8080/"
        },
        "id": "ONY-OWx62j9I",
        "outputId": "36e3d8fd-daa9-44ce-ad0c-8b22dc1c535a"
      },
      "execution_count": null,
      "outputs": [
        {
          "output_type": "stream",
          "name": "stdout",
          "text": [
            "Model: \"model_3_conv1D_char_embedding\"\n",
            "__________________________________________________________________________________________________\n",
            " Layer (type)                   Output Shape         Param #     Connected to                     \n",
            "==================================================================================================\n",
            " input_16 (InputLayer)          [(None, 1)]          0           []                               \n",
            "                                                                                                  \n",
            " char_vectorizer (TextVectoriza  (None, 290)         0           ['input_16[0][0]']               \n",
            " tion)                                                                                            \n",
            "                                                                                                  \n",
            " char_embed (Embedding)         (None, 290, 25)      1750        ['char_vectorizer[2][0]']        \n",
            "                                                                                                  \n",
            " conv1d_8 (Conv1D)              (None, 290, 64)      8064        ['char_embed[2][0]']             \n",
            "                                                                                                  \n",
            " global_max_pooling1d_2 (Global  (None, 64)          0           ['conv1d_8[0][0]']               \n",
            " MaxPooling1D)                                                                                    \n",
            "                                                                                                  \n",
            " input_17 (InputLayer)          [(None, 1)]          0           []                               \n",
            "                                                                                                  \n",
            " dense_14 (Dense)               (None, 5)            325         ['global_max_pooling1d_2[0][0]'] \n",
            "                                                                                                  \n",
            "==================================================================================================\n",
            "Total params: 10,139\n",
            "Trainable params: 10,139\n",
            "Non-trainable params: 0\n",
            "__________________________________________________________________________________________________\n"
          ]
        }
      ]
    },
    {
      "cell_type": "code",
      "source": [
        "# Create char datasets\n",
        "train_char_dataset = tf.data.Dataset.from_tensor_slices(((train_chars,train_data['line_pos'].values[..., None]), train_target)).batch(32).prefetch(tf.data.AUTOTUNE)\n",
        "val_char_dataset = tf.data.Dataset.from_tensor_slices(((val_chars,valid_data['line_pos'].values[..., None]), valid_target)).batch(32).prefetch(tf.data.AUTOTUNE)\n",
        "test_char_dataset = tf.data.Dataset.from_tensor_slices(((test_chars,test_data['line_pos'].values[..., None,]), test_target)).batch(32).prefetch(tf.data.AUTOTUNE)\n",
        "\n",
        "# Fit the model on chars only\n",
        "model_3_history = model_3.fit(train_char_dataset,\n",
        "                              epochs=3,\n",
        "                              validation_data=val_char_dataset)"
      ],
      "metadata": {
        "id": "q0QvIlUj2_3J"
      },
      "execution_count": null,
      "outputs": []
    },
    {
      "cell_type": "code",
      "source": [
        "# Evaluate the model on test dataset\n",
        "test_preds = tf.argmax(model_3.predict(test_char_dataset),1)\n",
        "model_3_results = calculate_results(test_labels, test_preds)\n",
        "print(model_3_results)\n",
        "print(classification_report(test_labels, test_preds))"
      ],
      "metadata": {
        "colab": {
          "base_uri": "https://localhost:8080/"
        },
        "id": "0matrlCe3UXL",
        "outputId": "5190d574-2fd9-481d-8524-ae5d22446278"
      },
      "execution_count": null,
      "outputs": [
        {
          "output_type": "stream",
          "name": "stdout",
          "text": [
            "942/942 [==============================] - 2s 2ms/step\n",
            "{'accuracy': 73.04795088767214, 'precision': 0.730756057981532, 'recall': 0.7304795088767214, 'f1': 0.7235066895895993}\n",
            "              precision    recall  f1-score   support\n",
            "\n",
            "           0       0.84      0.80      0.82      9897\n",
            "           1       0.72      0.89      0.80      9713\n",
            "           2       0.65      0.55      0.60      4571\n",
            "           3       0.56      0.54      0.55      3621\n",
            "           4       0.74      0.42      0.53      2333\n",
            "\n",
            "    accuracy                           0.73     30135\n",
            "   macro avg       0.70      0.64      0.66     30135\n",
            "weighted avg       0.73      0.73      0.72     30135\n",
            "\n"
          ]
        }
      ]
    },
    {
      "cell_type": "code",
      "source": [
        "# Generate confusion matrix\n",
        "make_confusion_matrix(test_labels, test_preds)"
      ],
      "metadata": {
        "colab": {
          "base_uri": "https://localhost:8080/",
          "height": 574
        },
        "id": "XNAZjoLW3yjA",
        "outputId": "554fa11b-ab94-4789-963c-088bb9252a6b"
      },
      "execution_count": null,
      "outputs": [
        {
          "output_type": "display_data",
          "data": {
            "text/plain": [
              "<Figure size 720x720 with 2 Axes>"
            ],
            "image/png": "[encoded data removed]"
          },
          "metadata": {
            "needs_background": "light"
          }
        }
      ]
    },
    {
      "cell_type": "markdown",
      "source": [
        "## Model 4 : Combining pretrained token embeddings + character embeddings (hybrid embedding layer)\n",
        "\n",
        "As given in figure 1 of paper [Joint Sentence Classification in Medical Paper Abstracts](https://arxiv.org/pdf/1612.05251.pdf), we will build a hybrid model with character and token embeddings.\n",
        "To combine the embeddings we will use `concatenate` layer to stack dense outputs of the embeddings."
      ],
      "metadata": {
        "id": "-evV9yNDAwS5"
      }
    },
    {
      "cell_type": "markdown",
      "source": [
        "### Prepare Data"
      ],
      "metadata": {
        "id": "onx-2PzGyZIp"
      }
    },
    {
      "cell_type": "code",
      "source": [
        "# Combine chars and tokens into a dataset\n",
        "train_char_token_data = tf.data.Dataset.from_tensor_slices(((train_text, train_chars), train_target)) \n",
        "val_char_token_data = tf.data.Dataset.from_tensor_slices(((valid_text, val_chars), valid_target))\n",
        "test_char_token_data = tf.data.Dataset.from_tensor_slices(((test_text, test_chars), test_target)) # make data\n",
        "\n",
        "# Prefetch and batch train data\n",
        "train_char_token_dataset = train_char_token_data.batch(32).prefetch(tf.data.AUTOTUNE) \n",
        "val_char_token_dataset = val_char_token_data.batch(32).prefetch(tf.data.AUTOTUNE)\n",
        "test_char_token_dataset = test_char_token_data.batch(32).prefetch(tf.data.AUTOTUNE)\n",
        "\n",
        "train_char_token_dataset, val_char_token_dataset, test_char_token_dataset"
      ],
      "metadata": {
        "colab": {
          "base_uri": "https://localhost:8080/"
        },
        "id": "Tjdo5NXn7AWr",
        "outputId": "8741c535-72ab-4be2-dca1-05bb2242c6f4"
      },
      "execution_count": null,
      "outputs": [
        {
          "output_type": "execute_result",
          "data": {
            "text/plain": [
              "(<PrefetchDataset element_spec=((TensorSpec(shape=(None,), dtype=tf.string, name=None), TensorSpec(shape=(None,), dtype=tf.string, name=None)), TensorSpec(shape=(None, 5), dtype=tf.float32, name=None))>,\n",
              " <PrefetchDataset element_spec=((TensorSpec(shape=(None,), dtype=tf.string, name=None), TensorSpec(shape=(None,), dtype=tf.string, name=None)), TensorSpec(shape=(None, 5), dtype=tf.float32, name=None))>,\n",
              " <PrefetchDataset element_spec=((TensorSpec(shape=(None,), dtype=tf.string, name=None), TensorSpec(shape=(None,), dtype=tf.string, name=None)), TensorSpec(shape=(None, 5), dtype=tf.float32, name=None))>)"
            ]
          },
          "metadata": {},
          "execution_count": 74
        }
      ]
    },
    {
      "cell_type": "markdown",
      "source": [
        "### Build and Train a Hybrid Model"
      ],
      "metadata": {
        "id": "4mVn0bJkycva"
      }
    },
    {
      "cell_type": "code",
      "source": [
        "# 1. Setup token inputs/model\n",
        "token_inputs = layers.Input(shape=[], dtype=tf.string, name=\"token_input\")\n",
        "preprocessed_inputs = preprocess(token_inputs)\n",
        "token_embeddings = bert(preprocessed_inputs)\n",
        "token_output = layers.Dense(128, activation=\"relu\")(token_embeddings['pooled_output'])\n",
        "token_model = tf.keras.Model(inputs=token_inputs,\n",
        "                             outputs=token_output)\n",
        "\n",
        "# 2. Setup char inputs/model\n",
        "char_inputs = layers.Input(shape=(1,), dtype=tf.string, name=\"char_input\")\n",
        "char_vectors = char_vectorizer(char_inputs)\n",
        "char_embeddings = char_embed(char_vectors)\n",
        "char_bi_lstm = layers.Bidirectional(layers.LSTM(25))(char_embeddings) # bi-LSTM shown in Figure 1 of https://arxiv.org/pdf/1612.05251.pdf\n",
        "char_model = tf.keras.Model(inputs=char_inputs,\n",
        "                            outputs=char_bi_lstm)\n",
        "\n",
        "# 3. Concatenate token and char inputs (create hybrid token embedding)\n",
        "token_char_concat = layers.Concatenate(name=\"token_char_hybrid\")([token_model.output, \n",
        "                                                                  char_model.output])\n",
        "\n",
        "# 4. Create output layers - addition of dropout discussed in 4.2 of https://arxiv.org/pdf/1612.05251.pdf\n",
        "combined_dropout = layers.Dropout(0.5)(token_char_concat)\n",
        "combined_dense = layers.Dense(200, activation=\"relu\")(combined_dropout) # slightly different to Figure 1 due to different shapes of token/char embedding layers\n",
        "final_dropout = layers.Dropout(0.5)(combined_dense)\n",
        "output_layer = layers.Dense(5, activation=\"softmax\")(final_dropout)\n",
        "\n",
        "# 5. Construct model with char and token inputs\n",
        "model_4 = tf.keras.Model(inputs=[token_model.input, char_model.input],\n",
        "                         outputs=output_layer,\n",
        "                         name=\"model_4_token_and_char_embeddings\")\n",
        "# Get summary of token and character model\n",
        "model_4.summary()"
      ],
      "metadata": {
        "id": "ypZGRe0wDmPo",
        "colab": {
          "base_uri": "https://localhost:8080/"
        },
        "outputId": "8beca35a-bb90-41b2-ceb6-c4a3eed62fff"
      },
      "execution_count": null,
      "outputs": [
        {
          "output_type": "stream",
          "name": "stdout",
          "text": [
            "Model: \"model_4_token_and_char_embeddings\"\n",
            "__________________________________________________________________________________________________\n",
            "Layer (type)                    Output Shape         Param #     Connected to                     \n",
            "==================================================================================================\n",
            "token_input (InputLayer)        [(None,)]            0                                            \n",
            "__________________________________________________________________________________________________\n",
            "char_input (InputLayer)         [(None, 1)]          0                                            \n",
            "__________________________________________________________________________________________________\n",
            "preprocess (KerasLayer)         {'input_word_ids': ( 0           token_input[0][0]                \n",
            "__________________________________________________________________________________________________\n",
            "char_vectorizer (TextVectorizat (None, 290)          0           char_input[0][0]                 \n",
            "__________________________________________________________________________________________________\n",
            "bert (KerasLayer)               {'default': (None, 7 109482241   preprocess[7][0]                 \n",
            "                                                                 preprocess[7][1]                 \n",
            "                                                                 preprocess[7][2]                 \n",
            "__________________________________________________________________________________________________\n",
            "char_embed (Embedding)          (None, 290, 25)      1750        char_vectorizer[2][0]            \n",
            "__________________________________________________________________________________________________\n",
            "dense_12 (Dense)                (None, 128)          98432       bert[6][13]                      \n",
            "__________________________________________________________________________________________________\n",
            "bidirectional_1 (Bidirectional) (None, 50)           10200       char_embed[2][0]                 \n",
            "__________________________________________________________________________________________________\n",
            "token_char_hybrid (Concatenate) (None, 178)          0           dense_12[0][0]                   \n",
            "                                                                 bidirectional_1[0][0]            \n",
            "__________________________________________________________________________________________________\n",
            "dropout (Dropout)               (None, 178)          0           token_char_hybrid[0][0]          \n",
            "__________________________________________________________________________________________________\n",
            "dense_13 (Dense)                (None, 200)          35800       dropout[0][0]                    \n",
            "__________________________________________________________________________________________________\n",
            "dropout_1 (Dropout)             (None, 200)          0           dense_13[0][0]                   \n",
            "__________________________________________________________________________________________________\n",
            "dense_14 (Dense)                (None, 5)            1005        dropout_1[0][0]                  \n",
            "==================================================================================================\n",
            "Total params: 109,629,428\n",
            "Trainable params: 147,187\n",
            "Non-trainable params: 109,482,241\n",
            "__________________________________________________________________________________________________\n"
          ]
        }
      ]
    },
    {
      "cell_type": "code",
      "source": [
        "# Plot hybrid token and character model\n",
        "plot_model(model_4)"
      ],
      "metadata": {
        "id": "h1r_IS1tDmTl",
        "colab": {
          "base_uri": "https://localhost:8080/",
          "height": 856
        },
        "outputId": "a90db0bb-bef3-45d2-d2a3-6094d6909f70"
      },
      "execution_count": null,
      "outputs": [
        {
          "output_type": "execute_result",
          "data": {
            "image/png": "[encoded data removed]",
            "text/plain": [
              "<IPython.core.display.Image object>"
            ]
          },
          "metadata": {},
          "execution_count": 82
        }
      ]
    },
    {
      "cell_type": "code",
      "source": [
        "# Compile token char model\n",
        "model_4.compile(loss=\"categorical_crossentropy\",\n",
        "                optimizer=tf.keras.optimizers.Adam(),\n",
        "                metrics=[\"accuracy\"])"
      ],
      "metadata": {
        "id": "Y8I3V0UFDmWO"
      },
      "execution_count": null,
      "outputs": []
    },
    {
      "cell_type": "code",
      "source": [
        "# Fit the model on tokens and chars\n",
        "model_4_history = model_4.fit(train_char_token_dataset, \n",
        "                              epochs=2,\n",
        "                              validation_data=val_char_token_dataset)"
      ],
      "metadata": {
        "id": "R-lLZRTWDmZC",
        "colab": {
          "base_uri": "https://localhost:8080/"
        },
        "outputId": "bf6ec7c2-a2fb-4e28-9a0f-ec9ff4d1db9c"
      },
      "execution_count": null,
      "outputs": [
        {
          "output_type": "stream",
          "name": "stdout",
          "text": [
            "5627/5627 [==============================] - 2126s 378ms/step - loss: 0.4692 - accuracy: 0.8387 - val_loss: 0.4277 - val_accuracy: 0.8525\n"
          ]
        }
      ]
    },
    {
      "cell_type": "code",
      "source": [
        "# evaluate the model on test data\n",
        "test_preds = tf.argmax(model_4.predict(test_char_token_dataset),1)\n",
        "model_4_results = calculate_results(test_labels, test_preds)\n",
        "print(model_4_results)\n",
        "print(classification_report(test_labels, test_preds))"
      ],
      "metadata": {
        "id": "taAp-kttDmbt",
        "colab": {
          "base_uri": "https://localhost:8080/"
        },
        "outputId": "9553dd69-1362-4a25-bba1-93a5e3115d81"
      },
      "execution_count": null,
      "outputs": [
        {
          "output_type": "stream",
          "name": "stdout",
          "text": [
            "{'accuracy': 84.44997511199603, 'precision': 0.8443085291751432, 'recall': 0.8444997511199602, 'f1': 0.8419127585992977}\n",
            "              precision    recall  f1-score   support\n",
            "\n",
            "           0       0.91      0.90      0.90      9897\n",
            "           1       0.85      0.93      0.89      9713\n",
            "           2       0.85      0.78      0.81      4571\n",
            "           3       0.69      0.75      0.72      3621\n",
            "           4       0.76      0.53      0.63      2333\n",
            "\n",
            "    accuracy                           0.84     30135\n",
            "   macro avg       0.81      0.78      0.79     30135\n",
            "weighted avg       0.84      0.84      0.84     30135\n",
            "\n"
          ]
        }
      ]
    },
    {
      "cell_type": "code",
      "source": [
        "# Create confusion matrix \n",
        "make_confusion_matrix(test_labels, test_preds)"
      ],
      "metadata": {
        "colab": {
          "base_uri": "https://localhost:8080/",
          "height": 574
        },
        "id": "Uq-qczKxIxk-",
        "outputId": "6a41d07c-4703-4535-8e69-d6d5d5a8ea3d"
      },
      "execution_count": null,
      "outputs": [
        {
          "output_type": "display_data",
          "data": {
            "text/plain": [
              "<Figure size 720x720 with 2 Axes>"
            ],
            "image/png": "[encoded data removed]"
          },
          "metadata": {
            "needs_background": "light"
          }
        }
      ]
    },
    {
      "cell_type": "markdown",
      "source": [
        "\n",
        "## Model 5: Character + Token + Positional Embeddings\n",
        "\n",
        "For this experiment, we will use line number and total lines, and relative line position columns in addition to textual data. Target categories usually follows a standard order, and longer abstracts is more likely to include more background sentences compared to shorter ones.\n",
        "\n",
        "In addition to this, we are also building word2vec model to learn word embeddings using context words. We will theese use pretrained embeddings in our tridbid hybrid model. \n",
        "\n",
        "The model will have three input streams, and will concatenate embeddings into single tensor.\n",
        "\n",
        "1. Input layer (Origonal sequences) -->  tokenizer --> word2vec embeddings --> Bidirectional LSTM --> Dense layer\n",
        "2. Input layer (Origonal sequences) --> Bert preprocessing layer --> Bert encoding layer --> Dense layer\n",
        "3. Input layer (Char data) --> Char tokenizer --> char embedding --> Bidirectional LSTM\n",
        "4. Input layer (Positional) --> Dense layer\n"
      ],
      "metadata": {
        "id": "wKewSn3tYTBv"
      }
    },
    {
      "cell_type": "code",
      "source": [
        "# Show line_number and total_lines columns\n",
        "train_data.head(5)"
      ],
      "metadata": {
        "id": "tVgtcSr0Dmed",
        "colab": {
          "base_uri": "https://localhost:8080/",
          "height": 206
        },
        "outputId": "6118d4ae-52f2-487e-a71b-c093aa3936f7"
      },
      "execution_count": null,
      "outputs": [
        {
          "output_type": "execute_result",
          "data": {
            "text/plain": [
              "   line_number     target                                               text  \\\n",
              "0            0  OBJECTIVE  to investigate the efficacy of @ weeks of dail...   \n",
              "1            1    METHODS  a total of @ patients with primary knee oa wer...   \n",
              "2            2    METHODS  outcome measures included pain reduction and i...   \n",
              "3            3    METHODS  pain was assessed using the visual analog pain...   \n",
              "4            4    METHODS  secondary outcome measures included the wester...   \n",
              "\n",
              "   total_lines  line_pos  \n",
              "0           13  0.000000  \n",
              "1           13  0.076923  \n",
              "2           13  0.153846  \n",
              "3           13  0.230769  \n",
              "4           13  0.307692  "
            ],
            "text/html": [
              "\n",
              "  <div id=\"df-7696b4ab-b27f-4755-8181-ed7fa4f94b7a\">\n",
              "    <div class=\"colab-df-container\">\n",
              "      <div>\n",
              "<style scoped>\n",
              "    .dataframe tbody tr th:only-of-type {\n",
              "        vertical-align: middle;\n",
              "    }\n",
              "\n",
              "    .dataframe tbody tr th {\n",
              "        vertical-align: top;\n",
              "    }\n",
              "\n",
              "    .dataframe thead th {\n",
              "        text-align: right;\n",
              "    }\n",
              "</style>\n",
              "<table border=\"1\" class=\"dataframe\">\n",
              "  <thead>\n",
              "    <tr style=\"text-align: right;\">\n",
              "      <th></th>\n",
              "      <th>line_number</th>\n",
              "      <th>target</th>\n",
              "      <th>text</th>\n",
              "      <th>total_lines</th>\n",
              "      <th>line_pos</th>\n",
              "    </tr>\n",
              "  </thead>\n",
              "  <tbody>\n",
              "    <tr>\n",
              "      <th>0</th>\n",
              "      <td>0</td>\n",
              "      <td>OBJECTIVE</td>\n",
              "      <td>to investigate the efficacy of @ weeks of dail...</td>\n",
              "      <td>13</td>\n",
              "      <td>0.000000</td>\n",
              "    </tr>\n",
              "    <tr>\n",
              "      <th>1</th>\n",
              "      <td>1</td>\n",
              "      <td>METHODS</td>\n",
              "      <td>a total of @ patients with primary knee oa wer...</td>\n",
              "      <td>13</td>\n",
              "      <td>0.076923</td>\n",
              "    </tr>\n",
              "    <tr>\n",
              "      <th>2</th>\n",
              "      <td>2</td>\n",
              "      <td>METHODS</td>\n",
              "      <td>outcome measures included pain reduction and i...</td>\n",
              "      <td>13</td>\n",
              "      <td>0.153846</td>\n",
              "    </tr>\n",
              "    <tr>\n",
              "      <th>3</th>\n",
              "      <td>3</td>\n",
              "      <td>METHODS</td>\n",
              "      <td>pain was assessed using the visual analog pain...</td>\n",
              "      <td>13</td>\n",
              "      <td>0.230769</td>\n",
              "    </tr>\n",
              "    <tr>\n",
              "      <th>4</th>\n",
              "      <td>4</td>\n",
              "      <td>METHODS</td>\n",
              "      <td>secondary outcome measures included the wester...</td>\n",
              "      <td>13</td>\n",
              "      <td>0.307692</td>\n",
              "    </tr>\n",
              "  </tbody>\n",
              "</table>\n",
              "</div>\n",
              "      <button class=\"colab-df-convert\" onclick=\"convertToInteractive('df-7696b4ab-b27f-4755-8181-ed7fa4f94b7a')\"\n",
              "              title=\"Convert this dataframe to an interactive table.\"\n",
              "              style=\"display:none;\">\n",
              "        \n",
              "  <svg xmlns=\"http://www.w3.org/2000/svg\" height=\"24px\"viewBox=\"0 0 24 24\"\n",
              "       width=\"24px\">\n",
              "    <path d=\"M0 0h24v24H0V0z\" fill=\"none\"/>\n",
              "    <path d=\"M18.56 5.44l.94 2.06.94-2.06 2.06-.94-2.06-.94-.94-2.06-.94 2.06-2.06.94zm-11 1L8.5 8.5l.94-2.06 2.06-.94-2.06-.94L8.5 2.5l-.94 2.06-2.06.94zm10 10l.94 2.06.94-2.06 2.06-.94-2.06-.94-.94-2.06-.94 2.06-2.06.94z\"/><path d=\"M17.41 7.96l-1.37-1.37c-.4-.4-.92-.59-1.43-.59-.52 0-1.04.2-1.43.59L10.3 9.45l-7.72 7.72c-.78.78-.78 2.05 0 2.83L4 21.41c.39.39.9.59 1.41.59.51 0 1.02-.2 1.41-.59l7.78-7.78 2.81-2.81c.8-.78.8-2.07 0-2.86zM5.41 20L4 18.59l7.72-7.72 1.47 1.35L5.41 20z\"/>\n",
              "  </svg>\n",
              "      </button>\n",
              "      \n",
              "  <style>\n",
              "    .colab-df-container {\n",
              "      display:flex;\n",
              "      flex-wrap:wrap;\n",
              "      gap: 12px;\n",
              "    }\n",
              "\n",
              "    .colab-df-convert {\n",
              "      background-color: #E8F0FE;\n",
              "      border: none;\n",
              "      border-radius: 50%;\n",
              "      cursor: pointer;\n",
              "      display: none;\n",
              "      fill: #1967D2;\n",
              "      height: 32px;\n",
              "      padding: 0 0 0 0;\n",
              "      width: 32px;\n",
              "    }\n",
              "\n",
              "    .colab-df-convert:hover {\n",
              "      background-color: #E2EBFA;\n",
              "      box-shadow: 0px 1px 2px rgba(60, 64, 67, 0.3), 0px 1px 3px 1px rgba(60, 64, 67, 0.15);\n",
              "      fill: #174EA6;\n",
              "    }\n",
              "\n",
              "    [theme=dark] .colab-df-convert {\n",
              "      background-color: #3B4455;\n",
              "      fill: #D2E3FC;\n",
              "    }\n",
              "\n",
              "    [theme=dark] .colab-df-convert:hover {\n",
              "      background-color: #434B5C;\n",
              "      box-shadow: 0px 1px 3px 1px rgba(0, 0, 0, 0.15);\n",
              "      filter: drop-shadow(0px 1px 2px rgba(0, 0, 0, 0.3));\n",
              "      fill: #FFFFFF;\n",
              "    }\n",
              "  </style>\n",
              "\n",
              "      <script>\n",
              "        const buttonEl =\n",
              "          document.querySelector('#df-7696b4ab-b27f-4755-8181-ed7fa4f94b7a button.colab-df-convert');\n",
              "        buttonEl.style.display =\n",
              "          google.colab.kernel.accessAllowed ? 'block' : 'none';\n",
              "\n",
              "        async function convertToInteractive(key) {\n",
              "          const element = document.querySelector('#df-7696b4ab-b27f-4755-8181-ed7fa4f94b7a');\n",
              "          const dataTable =\n",
              "            await google.colab.kernel.invokeFunction('convertToInteractive',\n",
              "                                                     [key], {});\n",
              "          if (!dataTable) return;\n",
              "\n",
              "          const docLinkHtml = 'Like what you see? Visit the ' +\n",
              "            '<a target=\"_blank\" href=https://colab.research.google.com/notebooks/data_table.ipynb>data table notebook</a>'\n",
              "            + ' to learn more about interactive tables.';\n",
              "          element.innerHTML = '';\n",
              "          dataTable['output_type'] = 'display_data';\n",
              "          await google.colab.output.renderOutput(dataTable, element);\n",
              "          const docLink = document.createElement('div');\n",
              "          docLink.innerHTML = docLinkHtml;\n",
              "          element.appendChild(docLink);\n",
              "        }\n",
              "      </script>\n",
              "    </div>\n",
              "  </div>\n",
              "  "
            ]
          },
          "metadata": {},
          "execution_count": 94
        }
      ]
    },
    {
      "cell_type": "markdown",
      "source": [
        "### Generate positional data"
      ],
      "metadata": {
        "id": "Tv9w9Z_DXG3I"
      }
    },
    {
      "cell_type": "code",
      "source": [
        "# one-hot-encoded tensors of our \"line_number\" column \n",
        "depth = 20\n",
        "train_line_numbers = tf.one_hot(train_data[\"line_number\"].to_numpy(), depth=depth)\n",
        "val_line_numbers = tf.one_hot(valid_data[\"line_number\"].to_numpy(), depth=depth)\n",
        "test_line_numbers = tf.one_hot(test_data[\"line_number\"].to_numpy(), depth=depth)\n",
        "print(train_line_numbers.shape, val_line_numbers.shape)\n",
        "\n",
        "# one-hot-encoded tensors of our \"total_lines\" column \n",
        "train_total_lines = tf.one_hot(train_data[\"line_number\"].to_numpy(), depth=depth)\n",
        "val_total_lines = tf.one_hot(valid_data[\"line_number\"].to_numpy(), depth=depth)\n",
        "test_total_lines = tf.one_hot(test_data[\"line_number\"].to_numpy(), depth=depth)\n",
        "print(train_total_lines.shape, val_total_lines.shape)\n",
        "\n",
        "# get relative positional data\n",
        "train_rel_pos = train_data['line_pos'].values[..., None]\n",
        "val_rel_pos = valid_data['line_pos'].values[..., None]\n",
        "test_rel_pos = test_data['line_pos'].values[..., None]\n",
        "print(train_rel_pos.shape, val_rel_pos.shape)\n",
        "\n",
        "# combine positional data into single tensor\n",
        "train_position = tf.concat([train_line_numbers, train_total_lines, train_rel_pos],axis = 1)\n",
        "val_position = tf.concat([val_line_numbers, val_total_lines, val_rel_pos],axis = 1)\n",
        "test_position = tf.concat([test_line_numbers, test_total_lines, test_rel_pos],axis = 1)\n",
        "print(train_position.shape, val_position.shape, test_position.shape)"
      ],
      "metadata": {
        "id": "-nBfFCDODmhO",
        "colab": {
          "base_uri": "https://localhost:8080/"
        },
        "outputId": "059bc940-4b53-4ff7-c380-1c2298612218"
      },
      "execution_count": null,
      "outputs": [
        {
          "output_type": "stream",
          "name": "stdout",
          "text": [
            "(180040, 20) (30212, 20)\n",
            "(180040, 20) (30212, 20)\n",
            "(180040, 1) (30212, 1)\n",
            "(180040, 41) (30212, 41) (30135, 41)\n"
          ]
        }
      ]
    },
    {
      "cell_type": "markdown",
      "source": [
        "### Word2Vec model with Skipgrams to generate custom embeddings\n",
        "Here, we use the Tensorflow [word2vec instructions](https://www.tensorflow.org/tutorials/text/word2vec) to learn embeddings of our pubmed data. \n",
        "\n",
        "We first build a vectorizer, and then generate skip-gram pairs with negative sampling, we get ((target, context), label) dataset where label indicates the word is in the context of target word.\n"
      ],
      "metadata": {
        "id": "G3CCaDMLanoe"
      }
    },
    {
      "cell_type": "code",
      "source": [
        "# Build and adapt the vectorizer\n",
        "text_sequences = train_text + valid_text\n",
        "VOCAB_SIZE = 30000 # smaller vocab size than the one used in the paper\n",
        "MAX_SEQUENCE_LENGTH = 31 # I chose 70th percentile value for the max_len as before\n",
        "\n",
        "\n",
        "vectorizer = tf.keras.layers.TextVectorization(max_tokens = VOCAB_SIZE,\n",
        "                                               standardize='lower_and_strip_punctuation',\n",
        "                                               pad_to_max_tokens = True,\n",
        "                                               output_sequence_length = MAX_SEQUENCE_LENGTH\n",
        "                                               )\n",
        "vectorizer.adapt(text_sequences)"
      ],
      "metadata": {
        "id": "kbb4cy-Td0Vw"
      },
      "execution_count": null,
      "outputs": []
    },
    {
      "cell_type": "markdown",
      "source": [
        "#### Create a function to generate skipgram pairs and labels"
      ],
      "metadata": {
        "id": "faHcVq56eIzb"
      }
    },
    {
      "cell_type": "code",
      "source": [
        "# # Generates skip-gram pairs with negative sampling for a list of sequences\n",
        "# (int-encoded sentences) based on window size, number of negative samples\n",
        "# and vocabulary size.\n",
        "def generate_training_data(vectorizer = vectorizer, sequences = text_sequences, window_size = 1, num_ns = 2, vocab_size = VOCAB_SIZE, seed = 42):\n",
        "  # Elements of each training example are appended to these lists.\n",
        "  targets, contexts, labels = [], [], []\n",
        "\n",
        "  # Build the sampling table for `vocab_size` tokens.\n",
        "  sampling_table = tf.keras.preprocessing.sequence.make_sampling_table(vocab_size)\n",
        "  # Iterate over all sequences (sentences) in the dataset.\n",
        "  for sequence in tqdm(sequences):\n",
        "    # vectorize the sequence\n",
        "    sequence = vectorizer(sequence)[:len(sequence.split())].numpy()\n",
        "    # Generate positive skip-gram pairs for a sequence (sentence).\n",
        "    positive_skip_grams, _ = tf.keras.preprocessing.sequence.skipgrams(\n",
        "          sequence,\n",
        "          vocabulary_size=vocab_size,\n",
        "          sampling_table=sampling_table,\n",
        "          window_size=window_size,\n",
        "          negative_samples=0)\n",
        "\n",
        "    # Iterate over each positive skip-gram pair to produce training examples\n",
        "    # with a positive context word and negative samples.\n",
        "    for target_word, context_word in positive_skip_grams:\n",
        "      context_class = tf.expand_dims(\n",
        "          tf.constant([context_word], dtype=\"int64\"), 1)\n",
        "      negative_sampling_candidates, _, _ = tf.random.log_uniform_candidate_sampler(\n",
        "          true_classes=context_class,\n",
        "          num_true=1,\n",
        "          num_sampled=num_ns,\n",
        "          unique=True,\n",
        "          range_max=vocab_size,\n",
        "          seed=seed,\n",
        "          name=\"negative_sampling\")\n",
        "\n",
        "      # Build context and label vectors (for one target word)\n",
        "      context = tf.concat([tf.squeeze(context_class,1), negative_sampling_candidates], 0)\n",
        "      label = tf.constant([1] + [0]*num_ns, dtype=\"int64\")\n",
        "\n",
        "      # Append each element from the training example to global lists.\n",
        "      targets.append(target_word)\n",
        "      contexts.append(context)\n",
        "      labels.append(label)\n",
        "\n",
        "  return targets, contexts, labels"
      ],
      "metadata": {
        "id": "scA5aZwqeJhI"
      },
      "execution_count": null,
      "outputs": []
    },
    {
      "cell_type": "markdown",
      "source": [
        "#### Create Custom Word2Vec model via subclassing "
      ],
      "metadata": {
        "id": "Pz550suFeVtC"
      }
    },
    {
      "cell_type": "code",
      "source": [
        "class Word2Vec(tf.keras.Model):\n",
        "  def __init__(self, vocab_size, embedding_dim):\n",
        "    super(Word2Vec, self).__init__()\n",
        "    self.target_embedding = layers.Embedding(vocab_size,\n",
        "                                      embedding_dim,\n",
        "                                      input_length=1,\n",
        "                                      name=\"w2v_embedding\")\n",
        "    self.context_embedding = layers.Embedding(vocab_size,\n",
        "                                       embedding_dim,\n",
        "                                       input_length=2+1)\n",
        "\n",
        "  def call(self, pair):\n",
        "    target, context = pair\n",
        "    # target: (batch, dummy?)  # The dummy axis doesn't exist in TF2.7+\n",
        "    # context: (batch, context)\n",
        "    if len(target.shape) == 2:\n",
        "      target = tf.squeeze(target, axis=1)\n",
        "    # target: (batch,)\n",
        "    word_emb = self.target_embedding(target)\n",
        "    # word_emb: (batch, embed)\n",
        "    context_emb = self.context_embedding(context)\n",
        "    # context_emb: (batch, context, embed)\n",
        "    dots = tf.einsum('be,bce->bc', word_emb, context_emb)\n",
        "    # dots: (batch, context)\n",
        "    return dots"
      ],
      "metadata": {
        "id": "lorTECgHemZg"
      },
      "execution_count": null,
      "outputs": []
    },
    {
      "cell_type": "markdown",
      "source": [
        "#### Train Word2Vec Model"
      ],
      "metadata": {
        "id": "tgM_js50fRwc"
      }
    },
    {
      "cell_type": "code",
      "source": [
        "# prepare data for word2vec model\n",
        "BATCH_SIZE = 1024\n",
        "BUFFER_SIZE = 100000\n",
        "targets, context, labels = generate_training_data(vectorizer = vectorizer, sequences = text_sequences) # generate skipgrams\n",
        "dataset = tf.data.Dataset.from_tensor_slices(((targets, contexts), labels)) # create tf.Data dataset\n",
        "dataset = dataset.shuffle(BUFFER_SIZE).batch(BATCH_SIZE, drop_remainder=True)\n",
        "dataset = dataset.cache().prefetch(buffer_size=tf.data.AUTOTUNE)\n",
        "\n",
        "# Build and train the model \n",
        "embedding_dim = 256\n",
        "epochs = 20\n",
        "word2vec = Word2Vec(VOCAB_SIZE, embedding_dim)\n",
        "word2vec.compile(optimizer='adam',\n",
        "                 loss=tf.keras.losses.CategoricalCrossentropy(from_logits=True),\n",
        "                 metrics=['accuracy'])\n",
        "\n",
        "tensorboard_callback = tf.keras.callbacks.TensorBoard(log_dir=\"logs\")\n",
        "\n",
        "word2vec.fit(dataset, epochs=epochs, callbacks=[tensorboard_callback])\n",
        "\n",
        "# save the weights\n",
        "weights = word2vec.get_layer('w2v_embedding').get_weights()[0]\n",
        "joblib.dump(weights, 'embeddings.pkl')"
      ],
      "metadata": {
        "id": "rvT27HUmDmmm"
      },
      "execution_count": null,
      "outputs": []
    },
    {
      "cell_type": "markdown",
      "source": [
        "### Build Tridbrid model"
      ],
      "metadata": {
        "id": "N0SbetVagTtO"
      }
    },
    {
      "cell_type": "code",
      "source": [
        "# load word2vec embeddings and build the embedding layer\n",
        "weights = joblib.load('embeddings.pkl') # load weights\n",
        "word2vec_embed = tf.keras.layers.Embedding(input_dim=30000,\n",
        "                            output_dim=256,\n",
        "                            input_length=31,\n",
        "                            trainable=False,\n",
        "                            name = 'word2vec_embed')\n",
        "word2vec_embed.build((None, ))\n",
        "word2vec_embed.set_weights([weights])"
      ],
      "metadata": {
        "id": "HqJBUKCLgLiy"
      },
      "execution_count": null,
      "outputs": []
    },
    {
      "cell_type": "code",
      "source": [
        "def build_model_5():\n",
        "    # 1. Set up word inputs/model with word2vec and bert embeddings\n",
        "    token_inputs = layers.Input(shape=[], dtype=tf.string, name=\"token_input\")\n",
        "    x1 = vectorizer(token_inputs)\n",
        "    x1 = word2vec_embed(x1) # word2vec embedding\n",
        "    x1 = layers.Bidirectional(layers.LSTM(128, 'tanh'))(x1)\n",
        "    x1 = layers.Dense(128, 'relu')(x1)\n",
        "    x2 = preprocess(token_inputs)\n",
        "    x2 = bert(x2) # bert embedding\n",
        "    x2 = layers.Dense(128, 'relu')(x2['pooled_output'])\n",
        "    x = layers.concatenate([x1,x2])\n",
        "    token_model = tf.keras.Model(token_inputs,x)\n",
        "\n",
        "    # 2. Setup char inputs/model\n",
        "    char_inputs = layers.Input(shape=(1,), dtype=tf.string, name=\"char_input\")\n",
        "    char_vectors = char_vectorizer(char_inputs)\n",
        "    char_embeddings = char_embed(char_vectors)\n",
        "    char_bi_lstm = layers.Bidirectional(layers.LSTM(25))(char_embeddings) \n",
        "    char_model = tf.keras.Model(inputs=char_inputs,\n",
        "                                outputs=char_bi_lstm)\n",
        "\n",
        "    # 3. Set up positional \n",
        "    pos_input = layers.Input(shape=(41,), dtype=tf.int32, name=\"line_number_input\")\n",
        "    x = layers.Dense(128, \"relu\")(pos_input)\n",
        "    x = layers.Dropout(0.5)(x)\n",
        "    pos_model = tf.keras.Model(pos_input, x)\n",
        "\n",
        "    # Combine token and char embeddings into a hybrid embedding\n",
        "    combined_embeddings = layers.Concatenate(name=\"token_char_hybrid_embedding\")([token_model.output, \n",
        "                                                                                  char_model.output])\n",
        "    z = layers.Dense(256, activation=\"relu\")(combined_embeddings)\n",
        "    z = layers.Dropout(0.5)(z)\n",
        "\n",
        "    # Combine positional embeddings with combined token and char embeddings into a tribrid embedding\n",
        "    z = layers.Concatenate(name=\"token_char_positional_embedding\")([pos_model.output,  z])\n",
        "\n",
        "    # Create output layer\n",
        "    output_layer = layers.Dense(5, activation=\"softmax\", name=\"output_layer\")(z)\n",
        "\n",
        "    # Put together model\n",
        "    model_5 = tf.keras.Model(inputs=[pos_model.input,\n",
        "                                    token_model.input,\n",
        "                                    char_model.input],\n",
        "                            outputs=output_layer)\n",
        "    return model_5"
      ],
      "metadata": {
        "id": "se4lN8NrgSaH"
      },
      "execution_count": null,
      "outputs": []
    },
    {
      "cell_type": "code",
      "source": [
        "# Build the model\n",
        "model_5 = build_model_5()\n",
        "model_5.summary()"
      ],
      "metadata": {
        "colab": {
          "base_uri": "https://localhost:8080/"
        },
        "id": "RnZZazDpCyqk",
        "outputId": "45b7b74b-dc8f-4781-c64b-64dca203a53f"
      },
      "execution_count": null,
      "outputs": [
        {
          "output_type": "stream",
          "name": "stdout",
          "text": [
            "Model: \"model_3\"\n",
            "__________________________________________________________________________________________________\n",
            " Layer (type)                   Output Shape         Param #     Connected to                     \n",
            "==================================================================================================\n",
            " token_input (InputLayer)       [(None,)]            0           []                               \n",
            "                                                                                                  \n",
            " text_vectorization (TextVector  (None, 31)          0           ['token_input[0][0]']            \n",
            " ization)                                                                                         \n",
            "                                                                                                  \n",
            " word2vec_embed (Embedding)     (None, 31, 256)      7680000     ['text_vectorization[1][0]']     \n",
            "                                                                                                  \n",
            " preprocess (KerasLayer)        {'input_type_ids':   0           ['token_input[0][0]']            \n",
            "                                (None, 128),                                                      \n",
            "                                 'input_mask': (Non                                               \n",
            "                                e, 128),                                                          \n",
            "                                 'input_word_ids':                                                \n",
            "                                (None, 128)}                                                      \n",
            "                                                                                                  \n",
            " char_input (InputLayer)        [(None, 1)]          0           []                               \n",
            "                                                                                                  \n",
            " bidirectional_19 (Bidirectiona  (None, 256)         394240      ['word2vec_embed[0][0]']         \n",
            " l)                                                                                               \n",
            "                                                                                                  \n",
            " bert (KerasLayer)              {'sequence_output':  109482241   ['preprocess[0][0]',             \n",
            "                                 (None, 128, 768),                'preprocess[0][1]',             \n",
            "                                 'default': (None,                'preprocess[0][2]']             \n",
            "                                768),                                                             \n",
            "                                 'pooled_output': (                                               \n",
            "                                None, 768),                                                       \n",
            "                                 'encoder_outputs':                                               \n",
            "                                 [(None, 128, 768),                                               \n",
            "                                 (None, 128, 768),                                                \n",
            "                                 (None, 128, 768),                                                \n",
            "                                 (None, 128, 768),                                                \n",
            "                                 (None, 128, 768),                                                \n",
            "                                 (None, 128, 768),                                                \n",
            "                                 (None, 128, 768),                                                \n",
            "                                 (None, 128, 768),                                                \n",
            "                                 (None, 128, 768),                                                \n",
            "                                 (None, 128, 768),                                                \n",
            "                                 (None, 128, 768),                                                \n",
            "                                 (None, 128, 768)]}                                               \n",
            "                                                                                                  \n",
            " char_vectorizer (TextVectoriza  (None, 290)         0           ['char_input[0][0]']             \n",
            " tion)                                                                                            \n",
            "                                                                                                  \n",
            " dense_19 (Dense)               (None, 128)          32896       ['bidirectional_19[0][0]']       \n",
            "                                                                                                  \n",
            " dense_20 (Dense)               (None, 128)          98432       ['bert[0][13]']                  \n",
            "                                                                                                  \n",
            " char_embed (Embedding)         (None, 290, 25)      1750        ['char_vectorizer[0][0]']        \n",
            "                                                                                                  \n",
            " concatenate (Concatenate)      (None, 256)          0           ['dense_19[0][0]',               \n",
            "                                                                  'dense_20[0][0]']               \n",
            "                                                                                                  \n",
            " bidirectional_20 (Bidirectiona  (None, 50)          10200       ['char_embed[0][0]']             \n",
            " l)                                                                                               \n",
            "                                                                                                  \n",
            " line_number_input (InputLayer)  [(None, 41)]        0           []                               \n",
            "                                                                                                  \n",
            " token_char_hybrid_embedding (C  (None, 306)         0           ['concatenate[0][0]',            \n",
            " oncatenate)                                                      'bidirectional_20[0][0]']       \n",
            "                                                                                                  \n",
            " dense_21 (Dense)               (None, 128)          5376        ['line_number_input[0][0]']      \n",
            "                                                                                                  \n",
            " dense_22 (Dense)               (None, 256)          78592       ['token_char_hybrid_embedding[0][\n",
            "                                                                 0]']                             \n",
            "                                                                                                  \n",
            " dropout_16 (Dropout)           (None, 128)          0           ['dense_21[0][0]']               \n",
            "                                                                                                  \n",
            " dropout_17 (Dropout)           (None, 256)          0           ['dense_22[0][0]']               \n",
            "                                                                                                  \n",
            " token_char_positional_embeddin  (None, 384)         0           ['dropout_16[0][0]',             \n",
            " g (Concatenate)                                                  'dropout_17[0][0]']             \n",
            "                                                                                                  \n",
            " output_layer (Dense)           (None, 5)            1925        ['token_char_positional_embedding\n",
            "                                                                 [0][0]']                         \n",
            "                                                                                                  \n",
            "==================================================================================================\n",
            "Total params: 117,785,652\n",
            "Trainable params: 623,411\n",
            "Non-trainable params: 117,162,241\n",
            "__________________________________________________________________________________________________\n"
          ]
        }
      ]
    },
    {
      "cell_type": "code",
      "source": [
        "# Plot the token, char, positional embedding model\n",
        "plot_model(model_5)"
      ],
      "metadata": {
        "colab": {
          "base_uri": "https://localhost:8080/",
          "height": 1000
        },
        "id": "Osxk5z_ugPPZ",
        "outputId": "3fb5bd1d-972e-4a52-eec9-61ce227cbc12"
      },
      "execution_count": null,
      "outputs": [
        {
          "output_type": "execute_result",
          "data": {
            "image/png": "[encoded data removed]",
            "text/plain": [
              "<IPython.core.display.Image object>"
            ]
          },
          "metadata": {},
          "execution_count": 84
        }
      ]
    },
    {
      "cell_type": "code",
      "source": [
        "# Compile token, char, positional embedding model\n",
        "model_5.compile(loss=tf.keras.losses.CategoricalCrossentropy(),\n",
        "                optimizer=tf.keras.optimizers.Adam(),\n",
        "                metrics=[\"accuracy\"])"
      ],
      "metadata": {
        "id": "P09M-sszu89Y"
      },
      "execution_count": null,
      "outputs": []
    },
    {
      "cell_type": "code",
      "source": [
        "# Combine chars, tokens, and postional data into a dataset -- > batch --> prefetch\n",
        "combined_train = tf.data.Dataset.from_tensor_slices(((train_position, train_text, train_chars), train_target)).batch(32).prefetch(tf.data.AUTOTUNE) \n",
        "combined_val = tf.data.Dataset.from_tensor_slices(((val_position, valid_text, val_chars), valid_target)).batch(32).prefetch(tf.data.AUTOTUNE)\n",
        "combined_test = tf.data.Dataset.from_tensor_slices(((test_position, test_text, test_chars), test_target)).batch(32).prefetch(tf.data.AUTOTUNE)\n",
        "\n",
        "combined_train, combined_val, combined_test"
      ],
      "metadata": {
        "colab": {
          "base_uri": "https://localhost:8080/"
        },
        "id": "la7lSXjbu8wC",
        "outputId": "de3110a4-33c3-426f-98ef-91cca7b5eb0c"
      },
      "execution_count": null,
      "outputs": [
        {
          "output_type": "execute_result",
          "data": {
            "text/plain": [
              "(<PrefetchDataset element_spec=((TensorSpec(shape=(None, 41), dtype=tf.float32, name=None), TensorSpec(shape=(None,), dtype=tf.string, name=None), TensorSpec(shape=(None,), dtype=tf.string, name=None)), TensorSpec(shape=(None, 5), dtype=tf.float32, name=None))>,\n",
              " <PrefetchDataset element_spec=((TensorSpec(shape=(None, 41), dtype=tf.float32, name=None), TensorSpec(shape=(None,), dtype=tf.string, name=None), TensorSpec(shape=(None,), dtype=tf.string, name=None)), TensorSpec(shape=(None, 5), dtype=tf.float32, name=None))>,\n",
              " <PrefetchDataset element_spec=((TensorSpec(shape=(None, 41), dtype=tf.float32, name=None), TensorSpec(shape=(None,), dtype=tf.string, name=None), TensorSpec(shape=(None,), dtype=tf.string, name=None)), TensorSpec(shape=(None, 5), dtype=tf.float32, name=None))>)"
            ]
          },
          "metadata": {},
          "execution_count": 86
        }
      ]
    },
    {
      "cell_type": "code",
      "source": [
        "# Reduce learning rate\n",
        "callback = tf.keras.callbacks.LearningRateScheduler(lambda epoch, lr: lr/3.2)\n",
        "# Fit the token, char and positional embedding model\n",
        "history_model_5 = model_5.fit(combined_train,\n",
        "                              epochs=4,\n",
        "                              validation_data=combined_val,\n",
        "                              callbacks = [callback])"
      ],
      "metadata": {
        "colab": {
          "base_uri": "https://localhost:8080/"
        },
        "id": "7mlEXJCCu8jD",
        "outputId": "c2d7c8f7-9425-491d-c0ec-c8622560b4d1"
      },
      "execution_count": null,
      "outputs": [
        {
          "output_type": "stream",
          "name": "stdout",
          "text": [
            "Epoch 1/4\n",
            "5627/5627 [==============================] - 2369s 419ms/step - loss: 0.3665 - accuracy: 0.8677 - val_loss: 0.3321 - val_accuracy: 0.8749 - lr: 3.1250e-04\n",
            "Epoch 2/4\n",
            "5627/5627 [==============================] - 2353s 418ms/step - loss: 0.2921 - accuracy: 0.8924 - val_loss: 0.2855 - val_accuracy: 0.8936 - lr: 9.7656e-05\n",
            "Epoch 3/4\n",
            "5627/5627 [==============================] - 2353s 418ms/step - loss: 0.2771 - accuracy: 0.8976 - val_loss: 0.2748 - val_accuracy: 0.8984 - lr: 3.0518e-05\n",
            "Epoch 4/4\n",
            "5627/5627 [==============================] - 2354s 418ms/step - loss: 0.2720 - accuracy: 0.8993 - val_loss: 0.2705 - val_accuracy: 0.9000 - lr: 9.5367e-06\n"
          ]
        }
      ]
    },
    {
      "cell_type": "code",
      "source": [
        "# Save  the model\n",
        "model_5.save('model_5')"
      ],
      "metadata": {
        "colab": {
          "base_uri": "https://localhost:8080/"
        },
        "id": "hJLWKWMUqbl-",
        "outputId": "6790c694-afb4-4ec8-b160-f5c3ba710a1a"
      },
      "execution_count": null,
      "outputs": [
        {
          "output_type": "stream",
          "name": "stderr",
          "text": [
            "WARNING:absl:Found untraced functions such as lstm_cell_74_layer_call_fn, lstm_cell_74_layer_call_and_return_conditional_losses, lstm_cell_75_layer_call_fn, lstm_cell_75_layer_call_and_return_conditional_losses, lstm_cell_77_layer_call_fn while saving (showing 5 of 368). These functions will not be directly callable after loading.\n"
          ]
        }
      ]
    },
    {
      "cell_type": "code",
      "source": [
        "# Copy the model to drive\n",
        "%cp -av \"/content/model_5\" \"/content/drive/MyDrive/Tensorflow\""
      ],
      "metadata": {
        "id": "pLG-Ht5rs8Xj"
      },
      "execution_count": null,
      "outputs": []
    },
    {
      "cell_type": "code",
      "source": [
        "# Load the model\n",
        "loaded_model = tf.keras.models.load_model('/content/drive/MyDrive/Tensorflow/model_5')"
      ],
      "metadata": {
        "id": "d5cSGLtoqtvm"
      },
      "execution_count": null,
      "outputs": []
    },
    {
      "cell_type": "code",
      "source": [
        "# Evaluate model 5 on test data\n",
        "test_pred_probs = loaded_model.predict(combined_test)\n",
        "test_preds = tf.argmax(test_pred_probs,1)\n",
        "model_5_results = calculate_results(test_labels, test_preds)\n",
        "print(model_5_results)\n",
        "print(classification_report(test_labels, test_preds))"
      ],
      "metadata": {
        "colab": {
          "base_uri": "https://localhost:8080/"
        },
        "id": "PHteZ1-nKZuO",
        "outputId": "d486230d-0d58-41a5-ebf5-4b82ca498f4d"
      },
      "execution_count": null,
      "outputs": [
        {
          "output_type": "stream",
          "name": "stdout",
          "text": [
            "942/942 [==============================] - 327s 345ms/step\n",
            "{'accuracy': 89.36452629832421, 'precision': 0.8943190503592543, 'recall': 0.8936452629832421, 'f1': 0.8912810934376262}\n",
            "              precision    recall  f1-score   support\n",
            "\n",
            "           0       0.92      0.96      0.94      9897\n",
            "           1       0.93      0.92      0.92      9713\n",
            "           2       0.92      0.90      0.91      4571\n",
            "           3       0.74      0.87      0.80      3621\n",
            "           4       0.80      0.54      0.65      2333\n",
            "\n",
            "    accuracy                           0.89     30135\n",
            "   macro avg       0.86      0.84      0.84     30135\n",
            "weighted avg       0.89      0.89      0.89     30135\n",
            "\n"
          ]
        }
      ]
    },
    {
      "cell_type": "code",
      "source": [
        "# Make confusion matrix\n",
        "make_confusion_matrix(test_labels, test_preds, classes = class_names)"
      ],
      "metadata": {
        "colab": {
          "base_uri": "https://localhost:8080/",
          "height": 580
        },
        "id": "cKVj0EUQKx1C",
        "outputId": "fcfaa56b-f3bb-4d59-a82f-fb89854b426d"
      },
      "execution_count": null,
      "outputs": [
        {
          "output_type": "display_data",
          "data": {
            "text/plain": [
              "<Figure size 720x720 with 2 Axes>"
            ],
            "image/png": "[encoded data removed]"
          },
          "metadata": {
            "needs_background": "light"
          }
        }
      ]
    },
    {
      "cell_type": "markdown",
      "source": [
        "### Error analysis"
      ],
      "metadata": {
        "id": "zcbTj1sfQPoJ"
      }
    },
    {
      "cell_type": "code",
      "source": [
        "# Add prediction class, probabilities to the dataframe\n",
        "target_inverse_map = {value:key for key, value in target_map.items()}\n",
        "test_data['target_pred'] = test_preds\n",
        "test_data['target_pred'] = test_data['target_pred'].replace(target_inverse_map)\n",
        "test_data['target_pred_conf'] = test_data_conf = np.max(test_pred_probs, axis = 1)\n",
        "test_data['correct_pred'] = test_data['target_pred']==test_data['target']\n",
        "pred_prob_cols = [i+'_prob' for i in class_names]\n",
        "test_data[pred_prob_cols] = test_pred_probs\n",
        "test_data['text_len'] = test_data['text'].str.len()\n",
        "test_data['word_count']=[len(sentence.split()) for sentence in test_data.text.values]"
      ],
      "metadata": {
        "id": "dNhXl3RJNBPp"
      },
      "execution_count": null,
      "outputs": []
    },
    {
      "cell_type": "code",
      "source": [
        "# check out the errors where an objective sentence is predicted as a background sentence\n",
        "error_subset = test_data[(test_data['target']=='OBJECTIVE')&(test_data['target_pred']=='BACKGROUND')]\n",
        "error_subset = error_subset.sort_values('target_pred_conf')\n",
        "print(error_subset.shape)\n",
        "error_subset.head()"
      ],
      "metadata": {
        "colab": {
          "base_uri": "https://localhost:8080/",
          "height": 479
        },
        "id": "j6xV8Oc3NBgk",
        "outputId": "40f89794-5f59-45b1-d8d1-049b95a4038f"
      },
      "execution_count": null,
      "outputs": [
        {
          "output_type": "stream",
          "name": "stdout",
          "text": [
            "(955, 14)\n"
          ]
        },
        {
          "output_type": "execute_result",
          "data": {
            "text/plain": [
              "       line_number     target  \\\n",
              "25709            3  OBJECTIVE   \n",
              "7054             2  OBJECTIVE   \n",
              "4148             2  OBJECTIVE   \n",
              "6156             6  OBJECTIVE   \n",
              "10676            1  OBJECTIVE   \n",
              "\n",
              "                                                    text  total_lines  \\\n",
              "25709  the authors examined abcb@ genetic variants as...           13   \n",
              "7054   we examined whether baseline echocardiographic...           13   \n",
              "4148   we therefore compared systemic glucose turnove...           13   \n",
              "6156   in the present study , the authors assessed th...           17   \n",
              "10676  these molecules are denoted as adipose tissue ...           13   \n",
              "\n",
              "       line_pos target_pred  METHODS_prob  RESULTS_prob  CONCLUSIONS_prob  \\\n",
              "25709  0.230769  BACKGROUND      0.317313      0.012232          0.001174   \n",
              "7054   0.153846  BACKGROUND      0.260512      0.014929          0.000273   \n",
              "4148   0.153846  BACKGROUND      0.378802      0.009359          0.000087   \n",
              "6156   0.352941  BACKGROUND      0.194116      0.066721          0.191810   \n",
              "10676  0.076923  BACKGROUND      0.328813      0.003771          0.000069   \n",
              "\n",
              "       BACKGROUND_prob  OBJECTIVE_prob  target_pred_conf  text_len  word_count  \n",
              "25709         0.349835        0.319445          0.349835       159          24  \n",
              "7054          0.378414        0.345873          0.378414       169          21  \n",
              "4148          0.394865        0.216887          0.394865       358          58  \n",
              "6156          0.412133        0.135219          0.412133       101          17  \n",
              "10676         0.416247        0.251101          0.416247       284          52  "
            ],
            "text/html": [
              "\n",
              "  <div id=\"df-ba49db5d-9f6c-4be8-8dd9-81522146c0f4\">\n",
              "    <div class=\"colab-df-container\">\n",
              "      <div>\n",
              "<style scoped>\n",
              "    .dataframe tbody tr th:only-of-type {\n",
              "        vertical-align: middle;\n",
              "    }\n",
              "\n",
              "    .dataframe tbody tr th {\n",
              "        vertical-align: top;\n",
              "    }\n",
              "\n",
              "    .dataframe thead th {\n",
              "        text-align: right;\n",
              "    }\n",
              "</style>\n",
              "<table border=\"1\" class=\"dataframe\">\n",
              "  <thead>\n",
              "    <tr style=\"text-align: right;\">\n",
              "      <th></th>\n",
              "      <th>line_number</th>\n",
              "      <th>target</th>\n",
              "      <th>text</th>\n",
              "      <th>total_lines</th>\n",
              "      <th>line_pos</th>\n",
              "      <th>target_pred</th>\n",
              "      <th>METHODS_prob</th>\n",
              "      <th>RESULTS_prob</th>\n",
              "      <th>CONCLUSIONS_prob</th>\n",
              "      <th>BACKGROUND_prob</th>\n",
              "      <th>OBJECTIVE_prob</th>\n",
              "      <th>target_pred_conf</th>\n",
              "      <th>text_len</th>\n",
              "      <th>word_count</th>\n",
              "    </tr>\n",
              "  </thead>\n",
              "  <tbody>\n",
              "    <tr>\n",
              "      <th>25709</th>\n",
              "      <td>3</td>\n",
              "      <td>OBJECTIVE</td>\n",
              "      <td>the authors examined abcb@ genetic variants as...</td>\n",
              "      <td>13</td>\n",
              "      <td>0.230769</td>\n",
              "      <td>BACKGROUND</td>\n",
              "      <td>0.317313</td>\n",
              "      <td>0.012232</td>\n",
              "      <td>0.001174</td>\n",
              "      <td>0.349835</td>\n",
              "      <td>0.319445</td>\n",
              "      <td>0.349835</td>\n",
              "      <td>159</td>\n",
              "      <td>24</td>\n",
              "    </tr>\n",
              "    <tr>\n",
              "      <th>7054</th>\n",
              "      <td>2</td>\n",
              "      <td>OBJECTIVE</td>\n",
              "      <td>we examined whether baseline echocardiographic...</td>\n",
              "      <td>13</td>\n",
              "      <td>0.153846</td>\n",
              "      <td>BACKGROUND</td>\n",
              "      <td>0.260512</td>\n",
              "      <td>0.014929</td>\n",
              "      <td>0.000273</td>\n",
              "      <td>0.378414</td>\n",
              "      <td>0.345873</td>\n",
              "      <td>0.378414</td>\n",
              "      <td>169</td>\n",
              "      <td>21</td>\n",
              "    </tr>\n",
              "    <tr>\n",
              "      <th>4148</th>\n",
              "      <td>2</td>\n",
              "      <td>OBJECTIVE</td>\n",
              "      <td>we therefore compared systemic glucose turnove...</td>\n",
              "      <td>13</td>\n",
              "      <td>0.153846</td>\n",
              "      <td>BACKGROUND</td>\n",
              "      <td>0.378802</td>\n",
              "      <td>0.009359</td>\n",
              "      <td>0.000087</td>\n",
              "      <td>0.394865</td>\n",
              "      <td>0.216887</td>\n",
              "      <td>0.394865</td>\n",
              "      <td>358</td>\n",
              "      <td>58</td>\n",
              "    </tr>\n",
              "    <tr>\n",
              "      <th>6156</th>\n",
              "      <td>6</td>\n",
              "      <td>OBJECTIVE</td>\n",
              "      <td>in the present study , the authors assessed th...</td>\n",
              "      <td>17</td>\n",
              "      <td>0.352941</td>\n",
              "      <td>BACKGROUND</td>\n",
              "      <td>0.194116</td>\n",
              "      <td>0.066721</td>\n",
              "      <td>0.191810</td>\n",
              "      <td>0.412133</td>\n",
              "      <td>0.135219</td>\n",
              "      <td>0.412133</td>\n",
              "      <td>101</td>\n",
              "      <td>17</td>\n",
              "    </tr>\n",
              "    <tr>\n",
              "      <th>10676</th>\n",
              "      <td>1</td>\n",
              "      <td>OBJECTIVE</td>\n",
              "      <td>these molecules are denoted as adipose tissue ...</td>\n",
              "      <td>13</td>\n",
              "      <td>0.076923</td>\n",
              "      <td>BACKGROUND</td>\n",
              "      <td>0.328813</td>\n",
              "      <td>0.003771</td>\n",
              "      <td>0.000069</td>\n",
              "      <td>0.416247</td>\n",
              "      <td>0.251101</td>\n",
              "      <td>0.416247</td>\n",
              "      <td>284</td>\n",
              "      <td>52</td>\n",
              "    </tr>\n",
              "  </tbody>\n",
              "</table>\n",
              "</div>\n",
              "      <button class=\"colab-df-convert\" onclick=\"convertToInteractive('df-ba49db5d-9f6c-4be8-8dd9-81522146c0f4')\"\n",
              "              title=\"Convert this dataframe to an interactive table.\"\n",
              "              style=\"display:none;\">\n",
              "        \n",
              "  <svg xmlns=\"http://www.w3.org/2000/svg\" height=\"24px\"viewBox=\"0 0 24 24\"\n",
              "       width=\"24px\">\n",
              "    <path d=\"M0 0h24v24H0V0z\" fill=\"none\"/>\n",
              "    <path d=\"M18.56 5.44l.94 2.06.94-2.06 2.06-.94-2.06-.94-.94-2.06-.94 2.06-2.06.94zm-11 1L8.5 8.5l.94-2.06 2.06-.94-2.06-.94L8.5 2.5l-.94 2.06-2.06.94zm10 10l.94 2.06.94-2.06 2.06-.94-2.06-.94-.94-2.06-.94 2.06-2.06.94z\"/><path d=\"M17.41 7.96l-1.37-1.37c-.4-.4-.92-.59-1.43-.59-.52 0-1.04.2-1.43.59L10.3 9.45l-7.72 7.72c-.78.78-.78 2.05 0 2.83L4 21.41c.39.39.9.59 1.41.59.51 0 1.02-.2 1.41-.59l7.78-7.78 2.81-2.81c.8-.78.8-2.07 0-2.86zM5.41 20L4 18.59l7.72-7.72 1.47 1.35L5.41 20z\"/>\n",
              "  </svg>\n",
              "      </button>\n",
              "      \n",
              "  <style>\n",
              "    .colab-df-container {\n",
              "      display:flex;\n",
              "      flex-wrap:wrap;\n",
              "      gap: 12px;\n",
              "    }\n",
              "\n",
              "    .colab-df-convert {\n",
              "      background-color: #E8F0FE;\n",
              "      border: none;\n",
              "      border-radius: 50%;\n",
              "      cursor: pointer;\n",
              "      display: none;\n",
              "      fill: #1967D2;\n",
              "      height: 32px;\n",
              "      padding: 0 0 0 0;\n",
              "      width: 32px;\n",
              "    }\n",
              "\n",
              "    .colab-df-convert:hover {\n",
              "      background-color: #E2EBFA;\n",
              "      box-shadow: 0px 1px 2px rgba(60, 64, 67, 0.3), 0px 1px 3px 1px rgba(60, 64, 67, 0.15);\n",
              "      fill: #174EA6;\n",
              "    }\n",
              "\n",
              "    [theme=dark] .colab-df-convert {\n",
              "      background-color: #3B4455;\n",
              "      fill: #D2E3FC;\n",
              "    }\n",
              "\n",
              "    [theme=dark] .colab-df-convert:hover {\n",
              "      background-color: #434B5C;\n",
              "      box-shadow: 0px 1px 3px 1px rgba(0, 0, 0, 0.15);\n",
              "      filter: drop-shadow(0px 1px 2px rgba(0, 0, 0, 0.3));\n",
              "      fill: #FFFFFF;\n",
              "    }\n",
              "  </style>\n",
              "\n",
              "      <script>\n",
              "        const buttonEl =\n",
              "          document.querySelector('#df-ba49db5d-9f6c-4be8-8dd9-81522146c0f4 button.colab-df-convert');\n",
              "        buttonEl.style.display =\n",
              "          google.colab.kernel.accessAllowed ? 'block' : 'none';\n",
              "\n",
              "        async function convertToInteractive(key) {\n",
              "          const element = document.querySelector('#df-ba49db5d-9f6c-4be8-8dd9-81522146c0f4');\n",
              "          const dataTable =\n",
              "            await google.colab.kernel.invokeFunction('convertToInteractive',\n",
              "                                                     [key], {});\n",
              "          if (!dataTable) return;\n",
              "\n",
              "          const docLinkHtml = 'Like what you see? Visit the ' +\n",
              "            '<a target=\"_blank\" href=https://colab.research.google.com/notebooks/data_table.ipynb>data table notebook</a>'\n",
              "            + ' to learn more about interactive tables.';\n",
              "          element.innerHTML = '';\n",
              "          dataTable['output_type'] = 'display_data';\n",
              "          await google.colab.output.renderOutput(dataTable, element);\n",
              "          const docLink = document.createElement('div');\n",
              "          docLink.innerHTML = docLinkHtml;\n",
              "          element.appendChild(docLink);\n",
              "        }\n",
              "      </script>\n",
              "    </div>\n",
              "  </div>\n",
              "  "
            ]
          },
          "metadata": {},
          "execution_count": 170
        }
      ]
    },
    {
      "cell_type": "code",
      "source": [
        "# describe column statistics for error subset\n",
        "error_subset.describe()"
      ],
      "metadata": {
        "colab": {
          "base_uri": "https://localhost:8080/",
          "height": 364
        },
        "id": "y6MXpMLIYyJm",
        "outputId": "413ba4d1-2ad9-40ec-87af-d3b8d682e222"
      },
      "execution_count": null,
      "outputs": [
        {
          "output_type": "execute_result",
          "data": {
            "text/plain": [
              "       line_number  total_lines    line_pos  METHODS_prob  RESULTS_prob  \\\n",
              "count   955.000000   955.000000  955.000000    955.000000  9.550000e+02   \n",
              "mean      0.807330    13.330890    0.061100      0.014620  1.806652e-03   \n",
              "std       0.969422     2.978511    0.072609      0.044278  1.157238e-02   \n",
              "min       0.000000     6.000000    0.000000      0.000005  2.180554e-07   \n",
              "25%       0.000000    11.000000    0.000000      0.000145  3.517568e-05   \n",
              "50%       1.000000    13.000000    0.055556      0.000888  9.667440e-05   \n",
              "75%       1.000000    15.000000    0.100000      0.005897  4.034683e-04   \n",
              "max       6.000000    23.000000    0.375000      0.406938  2.267940e-01   \n",
              "\n",
              "       CONCLUSIONS_prob  BACKGROUND_prob  OBJECTIVE_prob  target_pred_conf  \\\n",
              "count        955.000000       955.000000      955.000000        955.000000   \n",
              "mean           0.002271         0.686527        0.294775          0.686527   \n",
              "std            0.014753         0.103941        0.094945          0.103941   \n",
              "min            0.000008         0.349835        0.061473          0.349835   \n",
              "25%            0.000103         0.613193        0.223466          0.613193   \n",
              "50%            0.000173         0.699551        0.287235          0.699551   \n",
              "75%            0.000373         0.766960        0.361044          0.766960   \n",
              "max            0.224889         0.918908        0.497634          0.918908   \n",
              "\n",
              "         text_len  word_count  \n",
              "count  955.000000  955.000000  \n",
              "mean   150.324607   23.659686  \n",
              "std     62.255083    9.859942  \n",
              "min     44.000000    6.000000  \n",
              "25%    105.000000   17.000000  \n",
              "50%    141.000000   22.000000  \n",
              "75%    178.500000   29.000000  \n",
              "max    488.000000   74.000000  "
            ],
            "text/html": [
              "\n",
              "  <div id=\"df-0239b9fe-b30b-4844-b1f1-277a5f632f1a\">\n",
              "    <div class=\"colab-df-container\">\n",
              "      <div>\n",
              "<style scoped>\n",
              "    .dataframe tbody tr th:only-of-type {\n",
              "        vertical-align: middle;\n",
              "    }\n",
              "\n",
              "    .dataframe tbody tr th {\n",
              "        vertical-align: top;\n",
              "    }\n",
              "\n",
              "    .dataframe thead th {\n",
              "        text-align: right;\n",
              "    }\n",
              "</style>\n",
              "<table border=\"1\" class=\"dataframe\">\n",
              "  <thead>\n",
              "    <tr style=\"text-align: right;\">\n",
              "      <th></th>\n",
              "      <th>line_number</th>\n",
              "      <th>total_lines</th>\n",
              "      <th>line_pos</th>\n",
              "      <th>METHODS_prob</th>\n",
              "      <th>RESULTS_prob</th>\n",
              "      <th>CONCLUSIONS_prob</th>\n",
              "      <th>BACKGROUND_prob</th>\n",
              "      <th>OBJECTIVE_prob</th>\n",
              "      <th>target_pred_conf</th>\n",
              "      <th>text_len</th>\n",
              "      <th>word_count</th>\n",
              "    </tr>\n",
              "  </thead>\n",
              "  <tbody>\n",
              "    <tr>\n",
              "      <th>count</th>\n",
              "      <td>955.000000</td>\n",
              "      <td>955.000000</td>\n",
              "      <td>955.000000</td>\n",
              "      <td>955.000000</td>\n",
              "      <td>9.550000e+02</td>\n",
              "      <td>955.000000</td>\n",
              "      <td>955.000000</td>\n",
              "      <td>955.000000</td>\n",
              "      <td>955.000000</td>\n",
              "      <td>955.000000</td>\n",
              "      <td>955.000000</td>\n",
              "    </tr>\n",
              "    <tr>\n",
              "      <th>mean</th>\n",
              "      <td>0.807330</td>\n",
              "      <td>13.330890</td>\n",
              "      <td>0.061100</td>\n",
              "      <td>0.014620</td>\n",
              "      <td>1.806652e-03</td>\n",
              "      <td>0.002271</td>\n",
              "      <td>0.686527</td>\n",
              "      <td>0.294775</td>\n",
              "      <td>0.686527</td>\n",
              "      <td>150.324607</td>\n",
              "      <td>23.659686</td>\n",
              "    </tr>\n",
              "    <tr>\n",
              "      <th>std</th>\n",
              "      <td>0.969422</td>\n",
              "      <td>2.978511</td>\n",
              "      <td>0.072609</td>\n",
              "      <td>0.044278</td>\n",
              "      <td>1.157238e-02</td>\n",
              "      <td>0.014753</td>\n",
              "      <td>0.103941</td>\n",
              "      <td>0.094945</td>\n",
              "      <td>0.103941</td>\n",
              "      <td>62.255083</td>\n",
              "      <td>9.859942</td>\n",
              "    </tr>\n",
              "    <tr>\n",
              "      <th>min</th>\n",
              "      <td>0.000000</td>\n",
              "      <td>6.000000</td>\n",
              "      <td>0.000000</td>\n",
              "      <td>0.000005</td>\n",
              "      <td>2.180554e-07</td>\n",
              "      <td>0.000008</td>\n",
              "      <td>0.349835</td>\n",
              "      <td>0.061473</td>\n",
              "      <td>0.349835</td>\n",
              "      <td>44.000000</td>\n",
              "      <td>6.000000</td>\n",
              "    </tr>\n",
              "    <tr>\n",
              "      <th>25%</th>\n",
              "      <td>0.000000</td>\n",
              "      <td>11.000000</td>\n",
              "      <td>0.000000</td>\n",
              "      <td>0.000145</td>\n",
              "      <td>3.517568e-05</td>\n",
              "      <td>0.000103</td>\n",
              "      <td>0.613193</td>\n",
              "      <td>0.223466</td>\n",
              "      <td>0.613193</td>\n",
              "      <td>105.000000</td>\n",
              "      <td>17.000000</td>\n",
              "    </tr>\n",
              "    <tr>\n",
              "      <th>50%</th>\n",
              "      <td>1.000000</td>\n",
              "      <td>13.000000</td>\n",
              "      <td>0.055556</td>\n",
              "      <td>0.000888</td>\n",
              "      <td>9.667440e-05</td>\n",
              "      <td>0.000173</td>\n",
              "      <td>0.699551</td>\n",
              "      <td>0.287235</td>\n",
              "      <td>0.699551</td>\n",
              "      <td>141.000000</td>\n",
              "      <td>22.000000</td>\n",
              "    </tr>\n",
              "    <tr>\n",
              "      <th>75%</th>\n",
              "      <td>1.000000</td>\n",
              "      <td>15.000000</td>\n",
              "      <td>0.100000</td>\n",
              "      <td>0.005897</td>\n",
              "      <td>4.034683e-04</td>\n",
              "      <td>0.000373</td>\n",
              "      <td>0.766960</td>\n",
              "      <td>0.361044</td>\n",
              "      <td>0.766960</td>\n",
              "      <td>178.500000</td>\n",
              "      <td>29.000000</td>\n",
              "    </tr>\n",
              "    <tr>\n",
              "      <th>max</th>\n",
              "      <td>6.000000</td>\n",
              "      <td>23.000000</td>\n",
              "      <td>0.375000</td>\n",
              "      <td>0.406938</td>\n",
              "      <td>2.267940e-01</td>\n",
              "      <td>0.224889</td>\n",
              "      <td>0.918908</td>\n",
              "      <td>0.497634</td>\n",
              "      <td>0.918908</td>\n",
              "      <td>488.000000</td>\n",
              "      <td>74.000000</td>\n",
              "    </tr>\n",
              "  </tbody>\n",
              "</table>\n",
              "</div>\n",
              "      <button class=\"colab-df-convert\" onclick=\"convertToInteractive('df-0239b9fe-b30b-4844-b1f1-277a5f632f1a')\"\n",
              "              title=\"Convert this dataframe to an interactive table.\"\n",
              "              style=\"display:none;\">\n",
              "        \n",
              "  <svg xmlns=\"http://www.w3.org/2000/svg\" height=\"24px\"viewBox=\"0 0 24 24\"\n",
              "       width=\"24px\">\n",
              "    <path d=\"M0 0h24v24H0V0z\" fill=\"none\"/>\n",
              "    <path d=\"M18.56 5.44l.94 2.06.94-2.06 2.06-.94-2.06-.94-.94-2.06-.94 2.06-2.06.94zm-11 1L8.5 8.5l.94-2.06 2.06-.94-2.06-.94L8.5 2.5l-.94 2.06-2.06.94zm10 10l.94 2.06.94-2.06 2.06-.94-2.06-.94-.94-2.06-.94 2.06-2.06.94z\"/><path d=\"M17.41 7.96l-1.37-1.37c-.4-.4-.92-.59-1.43-.59-.52 0-1.04.2-1.43.59L10.3 9.45l-7.72 7.72c-.78.78-.78 2.05 0 2.83L4 21.41c.39.39.9.59 1.41.59.51 0 1.02-.2 1.41-.59l7.78-7.78 2.81-2.81c.8-.78.8-2.07 0-2.86zM5.41 20L4 18.59l7.72-7.72 1.47 1.35L5.41 20z\"/>\n",
              "  </svg>\n",
              "      </button>\n",
              "      \n",
              "  <style>\n",
              "    .colab-df-container {\n",
              "      display:flex;\n",
              "      flex-wrap:wrap;\n",
              "      gap: 12px;\n",
              "    }\n",
              "\n",
              "    .colab-df-convert {\n",
              "      background-color: #E8F0FE;\n",
              "      border: none;\n",
              "      border-radius: 50%;\n",
              "      cursor: pointer;\n",
              "      display: none;\n",
              "      fill: #1967D2;\n",
              "      height: 32px;\n",
              "      padding: 0 0 0 0;\n",
              "      width: 32px;\n",
              "    }\n",
              "\n",
              "    .colab-df-convert:hover {\n",
              "      background-color: #E2EBFA;\n",
              "      box-shadow: 0px 1px 2px rgba(60, 64, 67, 0.3), 0px 1px 3px 1px rgba(60, 64, 67, 0.15);\n",
              "      fill: #174EA6;\n",
              "    }\n",
              "\n",
              "    [theme=dark] .colab-df-convert {\n",
              "      background-color: #3B4455;\n",
              "      fill: #D2E3FC;\n",
              "    }\n",
              "\n",
              "    [theme=dark] .colab-df-convert:hover {\n",
              "      background-color: #434B5C;\n",
              "      box-shadow: 0px 1px 3px 1px rgba(0, 0, 0, 0.15);\n",
              "      filter: drop-shadow(0px 1px 2px rgba(0, 0, 0, 0.3));\n",
              "      fill: #FFFFFF;\n",
              "    }\n",
              "  </style>\n",
              "\n",
              "      <script>\n",
              "        const buttonEl =\n",
              "          document.querySelector('#df-0239b9fe-b30b-4844-b1f1-277a5f632f1a button.colab-df-convert');\n",
              "        buttonEl.style.display =\n",
              "          google.colab.kernel.accessAllowed ? 'block' : 'none';\n",
              "\n",
              "        async function convertToInteractive(key) {\n",
              "          const element = document.querySelector('#df-0239b9fe-b30b-4844-b1f1-277a5f632f1a');\n",
              "          const dataTable =\n",
              "            await google.colab.kernel.invokeFunction('convertToInteractive',\n",
              "                                                     [key], {});\n",
              "          if (!dataTable) return;\n",
              "\n",
              "          const docLinkHtml = 'Like what you see? Visit the ' +\n",
              "            '<a target=\"_blank\" href=https://colab.research.google.com/notebooks/data_table.ipynb>data table notebook</a>'\n",
              "            + ' to learn more about interactive tables.';\n",
              "          element.innerHTML = '';\n",
              "          dataTable['output_type'] = 'display_data';\n",
              "          await google.colab.output.renderOutput(dataTable, element);\n",
              "          const docLink = document.createElement('div');\n",
              "          docLink.innerHTML = docLinkHtml;\n",
              "          element.appendChild(docLink);\n",
              "        }\n",
              "      </script>\n",
              "    </div>\n",
              "  </div>\n",
              "  "
            ]
          },
          "metadata": {},
          "execution_count": 171
        }
      ]
    },
    {
      "cell_type": "code",
      "source": [
        "for i, text in enumerate(error_subset['text'].values[:15]):\n",
        "  print(i,')', text, '\\n')"
      ],
      "metadata": {
        "colab": {
          "base_uri": "https://localhost:8080/"
        },
        "id": "LpZAKs0vhg6_",
        "outputId": "a7a32d11-a588-42c3-df22-304b557a69bd"
      },
      "execution_count": null,
      "outputs": [
        {
          "output_type": "stream",
          "name": "stdout",
          "text": [
            "0 ) the authors examined abcb@ genetic variants as predictors of remission and side effects in a large clinical trial that also incorporated cognitive assessment . \n",
            "\n",
            "1 ) we examined whether baseline echocardiographic and clinical characteristics could identify those who will develop moderate/severe recurrent mitral regurgitation or die . \n",
            "\n",
            "2 ) we therefore compared systemic glucose turnover , including lactate gluconeogenesis ( gn ) and muscle glucose uptake , in individuals with type @ diabetes who were transplant recipients with partial graft function ( t@dm/itx ( + ) ) , matched non-transplanted individuals with type @ diabetes ( t@dm/itx ( - ) ) and matched healthy non-diabetic individuals . \n",
            "\n",
            "3 ) in the present study , the authors assessed the efficacy of g-suit for vasovagal syncope prevention . \n",
            "\n",
            "4 ) these molecules are denoted as adipose tissue generated mediators of cardiovascular risk ( atgmcvr ) here , and include leptin , adiponectin , c-reactive protein ( crp ) , interleukin @ ( il-@ ) , tumor necrosis factor alpha ( tnf ) , and plasminogen activator inhibitor @ ( pai-@ ) . \n",
            "\n",
            "5 ) the authors hypothesized that the random error in pest would be largely influenced by the windy conditions , the bias would be diminished in steeper climbs , and windy conditions would induce larger bias in pest . \n",
            "\n",
            "6 ) in a randomised clinical trial , we aimed to determine efficacy of synbiotic in reducing average infant crying time at day @ and day @ after starting intervention . \n",
            "\n",
            "7 ) we hypothesized that we could produce the highest proportion of patients reporting painless insertion . \n",
            "\n",
            "8 ) because depression is often associated with cognitive impairment , in this study we sought to determine whether our earlier participants had treatment-induced changes in cognition , which cognitive domains ( language , executive , visuospatial , verbal episodic memory , attention ) were affected , and whether treatment-induced cognitive changes were related either to improvement in depression or to other treatment variables , such as right versus left treatment and rtms versus sham . \n",
            "\n",
            "9 ) we specifically examined subgroups to determine whether certain populations had a better long-term outcome with surgery or nonoperative treatment . \n",
            "\n",
            "10 ) we examined the nature and temporal sequence of changes in achilles tendon structure in response to competitive game loads in elite australian football players . \n",
            "\n",
            "11 ) we tested whether telephone delivery of brca@/@ genetic counseling was noninferior to in-person delivery . \n",
            "\n",
            "12 ) this study piloted a novel therapist-supported , internet-based cbt program for bdd ( bdd-net ) . \n",
            "\n",
            "13 ) in addition , the authors investigated whether transcranial direct current stimulation ( tdcs ) could modulate sensorimotor rhythm control . \n",
            "\n",
            "14 ) it was hypothesized that oxytocin would reduce caloric intake and appetite and alter levels of appetite-regulating hormones . \n",
            "\n"
          ]
        }
      ]
    },
    {
      "cell_type": "code",
      "source": [
        "test_data[['correct_pred','target']].groupby('target').agg(['count','mean']).sort_values([('correct_pred', 'count')])"
      ],
      "metadata": {
        "colab": {
          "base_uri": "https://localhost:8080/",
          "height": 269
        },
        "id": "P18kB2EmdYV_",
        "outputId": "8a52f7b5-7bf4-434b-a99f-0ac1550fe0c4"
      },
      "execution_count": null,
      "outputs": [
        {
          "output_type": "execute_result",
          "data": {
            "text/plain": [
              "            correct_pred          \n",
              "                   count      mean\n",
              "target                            \n",
              "OBJECTIVE           2333  0.541363\n",
              "BACKGROUND          3621  0.864402\n",
              "CONCLUSIONS         4571  0.895428\n",
              "RESULTS             9713  0.918151\n",
              "METHODS             9897  0.957967"
            ],
            "text/html": [
              "\n",
              "  <div id=\"df-5a185527-9120-48b7-8fe1-373a6a5e5646\">\n",
              "    <div class=\"colab-df-container\">\n",
              "      <div>\n",
              "<style scoped>\n",
              "    .dataframe tbody tr th:only-of-type {\n",
              "        vertical-align: middle;\n",
              "    }\n",
              "\n",
              "    .dataframe tbody tr th {\n",
              "        vertical-align: top;\n",
              "    }\n",
              "\n",
              "    .dataframe thead tr th {\n",
              "        text-align: left;\n",
              "    }\n",
              "\n",
              "    .dataframe thead tr:last-of-type th {\n",
              "        text-align: right;\n",
              "    }\n",
              "</style>\n",
              "<table border=\"1\" class=\"dataframe\">\n",
              "  <thead>\n",
              "    <tr>\n",
              "      <th></th>\n",
              "      <th colspan=\"2\" halign=\"left\">correct_pred</th>\n",
              "    </tr>\n",
              "    <tr>\n",
              "      <th></th>\n",
              "      <th>count</th>\n",
              "      <th>mean</th>\n",
              "    </tr>\n",
              "    <tr>\n",
              "      <th>target</th>\n",
              "      <th></th>\n",
              "      <th></th>\n",
              "    </tr>\n",
              "  </thead>\n",
              "  <tbody>\n",
              "    <tr>\n",
              "      <th>OBJECTIVE</th>\n",
              "      <td>2333</td>\n",
              "      <td>0.541363</td>\n",
              "    </tr>\n",
              "    <tr>\n",
              "      <th>BACKGROUND</th>\n",
              "      <td>3621</td>\n",
              "      <td>0.864402</td>\n",
              "    </tr>\n",
              "    <tr>\n",
              "      <th>CONCLUSIONS</th>\n",
              "      <td>4571</td>\n",
              "      <td>0.895428</td>\n",
              "    </tr>\n",
              "    <tr>\n",
              "      <th>RESULTS</th>\n",
              "      <td>9713</td>\n",
              "      <td>0.918151</td>\n",
              "    </tr>\n",
              "    <tr>\n",
              "      <th>METHODS</th>\n",
              "      <td>9897</td>\n",
              "      <td>0.957967</td>\n",
              "    </tr>\n",
              "  </tbody>\n",
              "</table>\n",
              "</div>\n",
              "      <button class=\"colab-df-convert\" onclick=\"convertToInteractive('df-5a185527-9120-48b7-8fe1-373a6a5e5646')\"\n",
              "              title=\"Convert this dataframe to an interactive table.\"\n",
              "              style=\"display:none;\">\n",
              "        \n",
              "  <svg xmlns=\"http://www.w3.org/2000/svg\" height=\"24px\"viewBox=\"0 0 24 24\"\n",
              "       width=\"24px\">\n",
              "    <path d=\"M0 0h24v24H0V0z\" fill=\"none\"/>\n",
              "    <path d=\"M18.56 5.44l.94 2.06.94-2.06 2.06-.94-2.06-.94-.94-2.06-.94 2.06-2.06.94zm-11 1L8.5 8.5l.94-2.06 2.06-.94-2.06-.94L8.5 2.5l-.94 2.06-2.06.94zm10 10l.94 2.06.94-2.06 2.06-.94-2.06-.94-.94-2.06-.94 2.06-2.06.94z\"/><path d=\"M17.41 7.96l-1.37-1.37c-.4-.4-.92-.59-1.43-.59-.52 0-1.04.2-1.43.59L10.3 9.45l-7.72 7.72c-.78.78-.78 2.05 0 2.83L4 21.41c.39.39.9.59 1.41.59.51 0 1.02-.2 1.41-.59l7.78-7.78 2.81-2.81c.8-.78.8-2.07 0-2.86zM5.41 20L4 18.59l7.72-7.72 1.47 1.35L5.41 20z\"/>\n",
              "  </svg>\n",
              "      </button>\n",
              "      \n",
              "  <style>\n",
              "    .colab-df-container {\n",
              "      display:flex;\n",
              "      flex-wrap:wrap;\n",
              "      gap: 12px;\n",
              "    }\n",
              "\n",
              "    .colab-df-convert {\n",
              "      background-color: #E8F0FE;\n",
              "      border: none;\n",
              "      border-radius: 50%;\n",
              "      cursor: pointer;\n",
              "      display: none;\n",
              "      fill: #1967D2;\n",
              "      height: 32px;\n",
              "      padding: 0 0 0 0;\n",
              "      width: 32px;\n",
              "    }\n",
              "\n",
              "    .colab-df-convert:hover {\n",
              "      background-color: #E2EBFA;\n",
              "      box-shadow: 0px 1px 2px rgba(60, 64, 67, 0.3), 0px 1px 3px 1px rgba(60, 64, 67, 0.15);\n",
              "      fill: #174EA6;\n",
              "    }\n",
              "\n",
              "    [theme=dark] .colab-df-convert {\n",
              "      background-color: #3B4455;\n",
              "      fill: #D2E3FC;\n",
              "    }\n",
              "\n",
              "    [theme=dark] .colab-df-convert:hover {\n",
              "      background-color: #434B5C;\n",
              "      box-shadow: 0px 1px 3px 1px rgba(0, 0, 0, 0.15);\n",
              "      filter: drop-shadow(0px 1px 2px rgba(0, 0, 0, 0.3));\n",
              "      fill: #FFFFFF;\n",
              "    }\n",
              "  </style>\n",
              "\n",
              "      <script>\n",
              "        const buttonEl =\n",
              "          document.querySelector('#df-5a185527-9120-48b7-8fe1-373a6a5e5646 button.colab-df-convert');\n",
              "        buttonEl.style.display =\n",
              "          google.colab.kernel.accessAllowed ? 'block' : 'none';\n",
              "\n",
              "        async function convertToInteractive(key) {\n",
              "          const element = document.querySelector('#df-5a185527-9120-48b7-8fe1-373a6a5e5646');\n",
              "          const dataTable =\n",
              "            await google.colab.kernel.invokeFunction('convertToInteractive',\n",
              "                                                     [key], {});\n",
              "          if (!dataTable) return;\n",
              "\n",
              "          const docLinkHtml = 'Like what you see? Visit the ' +\n",
              "            '<a target=\"_blank\" href=https://colab.research.google.com/notebooks/data_table.ipynb>data table notebook</a>'\n",
              "            + ' to learn more about interactive tables.';\n",
              "          element.innerHTML = '';\n",
              "          dataTable['output_type'] = 'display_data';\n",
              "          await google.colab.output.renderOutput(dataTable, element);\n",
              "          const docLink = document.createElement('div');\n",
              "          docLink.innerHTML = docLinkHtml;\n",
              "          element.appendChild(docLink);\n",
              "        }\n",
              "      </script>\n",
              "    </div>\n",
              "  </div>\n",
              "  "
            ]
          },
          "metadata": {},
          "execution_count": 232
        }
      ]
    },
    {
      "cell_type": "markdown",
      "source": [
        " The main of the reasons we are not able to learn objective sentences is the class imbalance. The accuracy by classes are proportional to the class weight as shown above. "
      ],
      "metadata": {
        "id": "x7t1oKWodd-C"
      }
    },
    {
      "cell_type": "markdown",
      "source": [
        "# Compare and Visualise Experiment Results"
      ],
      "metadata": {
        "id": "t0AEA4O6Hq5r"
      }
    },
    {
      "cell_type": "code",
      "source": [
        "# Combine model results into a DataFrame\n",
        "all_model_results = pd.DataFrame({\"baseline\": baseline_results,\n",
        "                                  \"custom_token_embed\": model_1_results,\n",
        "                                  \"pretrained_token_embed\": model_2_results,\n",
        "                                  \"custom_char_embed_conv1d\": model_3_results,\n",
        "                                  \"hybrid_char_token_embed\": model_4_results,\n",
        "                                  \"tribrid_pos_char_token_embed\": model_5_results})\n",
        "all_model_results = all_model_results.transpose()\n",
        "all_model_results"
      ],
      "metadata": {
        "colab": {
          "base_uri": "https://localhost:8080/",
          "height": 238
        },
        "id": "YvAmwvUwgKZ1",
        "outputId": "34a70e86-cd99-4be7-dab2-9aa50a30779f"
      },
      "execution_count": null,
      "outputs": [
        {
          "output_type": "execute_result",
          "data": {
            "text/plain": [
              "                               accuracy  precision    recall        f1\n",
              "baseline                      73.492617   0.727598  0.734926  0.726189\n",
              "custom_token_embed            87.808196   0.878558  0.878082  0.875809\n",
              "pretrained_token_embed        88.687573   0.893169  0.886876  0.882646\n",
              "custom_char_embed_conv1d      73.047951   0.730756  0.730480  0.723507\n",
              "hybrid_char_token_embed       84.449975   0.844309  0.844500  0.841913\n",
              "tribrid_pos_char_token_embed  89.364526   0.894319  0.893645  0.891281"
            ],
            "text/html": [
              "\n",
              "  <div id=\"df-ce49c068-db54-4145-ba63-ea9b4d65892f\">\n",
              "    <div class=\"colab-df-container\">\n",
              "      <div>\n",
              "<style scoped>\n",
              "    .dataframe tbody tr th:only-of-type {\n",
              "        vertical-align: middle;\n",
              "    }\n",
              "\n",
              "    .dataframe tbody tr th {\n",
              "        vertical-align: top;\n",
              "    }\n",
              "\n",
              "    .dataframe thead th {\n",
              "        text-align: right;\n",
              "    }\n",
              "</style>\n",
              "<table border=\"1\" class=\"dataframe\">\n",
              "  <thead>\n",
              "    <tr style=\"text-align: right;\">\n",
              "      <th></th>\n",
              "      <th>accuracy</th>\n",
              "      <th>precision</th>\n",
              "      <th>recall</th>\n",
              "      <th>f1</th>\n",
              "    </tr>\n",
              "  </thead>\n",
              "  <tbody>\n",
              "    <tr>\n",
              "      <th>baseline</th>\n",
              "      <td>73.492617</td>\n",
              "      <td>0.727598</td>\n",
              "      <td>0.734926</td>\n",
              "      <td>0.726189</td>\n",
              "    </tr>\n",
              "    <tr>\n",
              "      <th>custom_token_embed</th>\n",
              "      <td>87.808196</td>\n",
              "      <td>0.878558</td>\n",
              "      <td>0.878082</td>\n",
              "      <td>0.875809</td>\n",
              "    </tr>\n",
              "    <tr>\n",
              "      <th>pretrained_token_embed</th>\n",
              "      <td>88.687573</td>\n",
              "      <td>0.893169</td>\n",
              "      <td>0.886876</td>\n",
              "      <td>0.882646</td>\n",
              "    </tr>\n",
              "    <tr>\n",
              "      <th>custom_char_embed_conv1d</th>\n",
              "      <td>73.047951</td>\n",
              "      <td>0.730756</td>\n",
              "      <td>0.730480</td>\n",
              "      <td>0.723507</td>\n",
              "    </tr>\n",
              "    <tr>\n",
              "      <th>hybrid_char_token_embed</th>\n",
              "      <td>84.449975</td>\n",
              "      <td>0.844309</td>\n",
              "      <td>0.844500</td>\n",
              "      <td>0.841913</td>\n",
              "    </tr>\n",
              "    <tr>\n",
              "      <th>tribrid_pos_char_token_embed</th>\n",
              "      <td>89.364526</td>\n",
              "      <td>0.894319</td>\n",
              "      <td>0.893645</td>\n",
              "      <td>0.891281</td>\n",
              "    </tr>\n",
              "  </tbody>\n",
              "</table>\n",
              "</div>\n",
              "      <button class=\"colab-df-convert\" onclick=\"convertToInteractive('df-ce49c068-db54-4145-ba63-ea9b4d65892f')\"\n",
              "              title=\"Convert this dataframe to an interactive table.\"\n",
              "              style=\"display:none;\">\n",
              "        \n",
              "  <svg xmlns=\"http://www.w3.org/2000/svg\" height=\"24px\"viewBox=\"0 0 24 24\"\n",
              "       width=\"24px\">\n",
              "    <path d=\"M0 0h24v24H0V0z\" fill=\"none\"/>\n",
              "    <path d=\"M18.56 5.44l.94 2.06.94-2.06 2.06-.94-2.06-.94-.94-2.06-.94 2.06-2.06.94zm-11 1L8.5 8.5l.94-2.06 2.06-.94-2.06-.94L8.5 2.5l-.94 2.06-2.06.94zm10 10l.94 2.06.94-2.06 2.06-.94-2.06-.94-.94-2.06-.94 2.06-2.06.94z\"/><path d=\"M17.41 7.96l-1.37-1.37c-.4-.4-.92-.59-1.43-.59-.52 0-1.04.2-1.43.59L10.3 9.45l-7.72 7.72c-.78.78-.78 2.05 0 2.83L4 21.41c.39.39.9.59 1.41.59.51 0 1.02-.2 1.41-.59l7.78-7.78 2.81-2.81c.8-.78.8-2.07 0-2.86zM5.41 20L4 18.59l7.72-7.72 1.47 1.35L5.41 20z\"/>\n",
              "  </svg>\n",
              "      </button>\n",
              "      \n",
              "  <style>\n",
              "    .colab-df-container {\n",
              "      display:flex;\n",
              "      flex-wrap:wrap;\n",
              "      gap: 12px;\n",
              "    }\n",
              "\n",
              "    .colab-df-convert {\n",
              "      background-color: #E8F0FE;\n",
              "      border: none;\n",
              "      border-radius: 50%;\n",
              "      cursor: pointer;\n",
              "      display: none;\n",
              "      fill: #1967D2;\n",
              "      height: 32px;\n",
              "      padding: 0 0 0 0;\n",
              "      width: 32px;\n",
              "    }\n",
              "\n",
              "    .colab-df-convert:hover {\n",
              "      background-color: #E2EBFA;\n",
              "      box-shadow: 0px 1px 2px rgba(60, 64, 67, 0.3), 0px 1px 3px 1px rgba(60, 64, 67, 0.15);\n",
              "      fill: #174EA6;\n",
              "    }\n",
              "\n",
              "    [theme=dark] .colab-df-convert {\n",
              "      background-color: #3B4455;\n",
              "      fill: #D2E3FC;\n",
              "    }\n",
              "\n",
              "    [theme=dark] .colab-df-convert:hover {\n",
              "      background-color: #434B5C;\n",
              "      box-shadow: 0px 1px 3px 1px rgba(0, 0, 0, 0.15);\n",
              "      filter: drop-shadow(0px 1px 2px rgba(0, 0, 0, 0.3));\n",
              "      fill: #FFFFFF;\n",
              "    }\n",
              "  </style>\n",
              "\n",
              "      <script>\n",
              "        const buttonEl =\n",
              "          document.querySelector('#df-ce49c068-db54-4145-ba63-ea9b4d65892f button.colab-df-convert');\n",
              "        buttonEl.style.display =\n",
              "          google.colab.kernel.accessAllowed ? 'block' : 'none';\n",
              "\n",
              "        async function convertToInteractive(key) {\n",
              "          const element = document.querySelector('#df-ce49c068-db54-4145-ba63-ea9b4d65892f');\n",
              "          const dataTable =\n",
              "            await google.colab.kernel.invokeFunction('convertToInteractive',\n",
              "                                                     [key], {});\n",
              "          if (!dataTable) return;\n",
              "\n",
              "          const docLinkHtml = 'Like what you see? Visit the ' +\n",
              "            '<a target=\"_blank\" href=https://colab.research.google.com/notebooks/data_table.ipynb>data table notebook</a>'\n",
              "            + ' to learn more about interactive tables.';\n",
              "          element.innerHTML = '';\n",
              "          dataTable['output_type'] = 'display_data';\n",
              "          await google.colab.output.renderOutput(dataTable, element);\n",
              "          const docLink = document.createElement('div');\n",
              "          docLink.innerHTML = docLinkHtml;\n",
              "          element.appendChild(docLink);\n",
              "        }\n",
              "      </script>\n",
              "    </div>\n",
              "  </div>\n",
              "  "
            ]
          },
          "metadata": {},
          "execution_count": 108
        }
      ]
    },
    {
      "cell_type": "code",
      "source": [
        "plt.figure(figsize = (20,6))\n",
        "all_model_results['accuracy']/=100 # Scale accuracy to [0,1] interval\n",
        "for i, metric in enumerate(['accuracy', 'precision', 'f1']):\n",
        "  plt.subplot(1,3,i+1)\n",
        "  ax = sns.barplot(data = all_model_results, y = metric, x = all_model_results.index)\n",
        "  plt.xticks(rotation = 90)\n",
        "  plt.yticks(np.linspace(0,1,11))\n",
        "  plt.title(metric.capitalize())\n",
        "plt.show()"
      ],
      "metadata": {
        "colab": {
          "base_uri": "https://localhost:8080/",
          "height": 466
        },
        "id": "rJp0Ljz8qloH",
        "outputId": "d5b4c7c5-d411-4f0c-fb82-bdf5fda08d30"
      },
      "execution_count": null,
      "outputs": [
        {
          "output_type": "display_data",
          "data": {
            "text/plain": [
              "<Figure size 1440x432 with 3 Axes>"
            ],
            "image/png": "[encoded data removed]"
          },
          "metadata": {
            "needs_background": "light"
          }
        }
      ]
    },
    {
      "cell_type": "markdown",
      "source": [
        "# Classify Abstract Sentences with the Final Model"
      ],
      "metadata": {
        "id": "1nxYvvACuOU2"
      }
    },
    {
      "cell_type": "code",
      "source": [
        "sample_abstract = 'This RCT examined the efficacy of a manualized social intervention for children with HFASDs.\\\n",
        " Participants were randomly assigned to treatment or wait-list conditions. Treatment included instruction and \\\n",
        " therapeutic activities targeting social skills, face-emotion recognition, interest expansion, and interpretation\\\n",
        "  of non-literal language. A response-cost program was applied to reduce problem behaviors and foster skills \\\n",
        "  acquisition. Significant treatment effects were found for five of seven primary outcome measures (parent \\\n",
        "  ratings and direct child measures). Secondary measures based on staff ratings (treatment group only) \\\n",
        "  corroborated gains reported by parents. High levels of parent, child and staff satisfaction were reported, \\\n",
        "  along with high levels of treatment fidelity. Standardized effect size estimates were primarily in the\\\n",
        "   medium and large ranges and favored the treatment group.'\n",
        "\n",
        "sentences = sample_abstract.split('.')\n",
        "for i, sentence in enumerate(sentences):\n",
        "  print(i, sentence)"
      ],
      "metadata": {
        "id": "EKkTQrqQgKfN",
        "colab": {
          "base_uri": "https://localhost:8080/"
        },
        "outputId": "671a7b2f-cde7-4dab-aba9-327091794764"
      },
      "execution_count": null,
      "outputs": [
        {
          "output_type": "stream",
          "name": "stdout",
          "text": [
            "0 This RCT examined the efficacy of a manualized social intervention for children with HFASDs\n",
            "1  Participants were randomly assigned to treatment or wait-list conditions\n",
            "2  Treatment included instruction and  therapeutic activities targeting social skills, face-emotion recognition, interest expansion, and interpretation  of non-literal language\n",
            "3  A response-cost program was applied to reduce problem behaviors and foster skills   acquisition\n",
            "4  Significant treatment effects were found for five of seven primary outcome measures (parent   ratings and direct child measures)\n",
            "5  Secondary measures based on staff ratings (treatment group only)   corroborated gains reported by parents\n",
            "6  High levels of parent, child and staff satisfaction were reported,   along with high levels of treatment fidelity\n",
            "7  Standardized effect size estimates were primarily in the   medium and large ranges and favored the treatment group\n",
            "8 \n"
          ]
        }
      ]
    },
    {
      "cell_type": "code",
      "source": [
        "# Splitting at '.' is may cause problems in some cases, e.g., www.pubmed.com would be split into 3 sentences.\n",
        "# Create sentencizer - Source: https://spacy.io/usage/linguistic-features#sbd \n",
        "from spacy.lang.en import English\n",
        "nlp = English() # setup English sentence parser\n",
        "sentencizer = nlp.create_pipe(\"sentencizer\") # create sentence splitting pipeline object\n",
        "nlp.add_pipe('sentencizer') # add sentence splitting pipeline object to sentence parser\n",
        "doc = nlp(sample_abstract) # create \"doc\" of parsed sequences, change index for a different abstract\n",
        "abstract_lines = [str(sent) for sent in list(doc.sents)] # return detected sentences from doc in string type (not spaCy token type)\n",
        "abstract_lines"
      ],
      "metadata": {
        "colab": {
          "base_uri": "https://localhost:8080/"
        },
        "id": "qTkfFmD-9Jh1",
        "outputId": "07a6ff31-ad7e-4fda-cdef-19727e697aa4"
      },
      "execution_count": null,
      "outputs": [
        {
          "output_type": "execute_result",
          "data": {
            "text/plain": [
              "['This RCT examined the efficacy of a manualized social intervention for children with HFASDs.',\n",
              " 'Participants were randomly assigned to treatment or wait-list conditions.',\n",
              " 'Treatment included instruction and therapeutic activities targeting social skills, face-emotion recognition, interest expansion, and interpretation of non-literal language.',\n",
              " 'A response-cost program was applied to reduce problem behaviors and foster skills acquisition.',\n",
              " 'Significant treatment effects were found for five of seven primary outcome measures (parent ratings and direct child measures).',\n",
              " 'Secondary measures based on staff ratings (treatment group only) corroborated gains reported by parents.',\n",
              " 'High levels of parent, child and staff satisfaction were reported, along with high levels of treatment fidelity.',\n",
              " 'Standardized effect size estimates were primarily in the medium and large ranges and favored the treatment group.']"
            ]
          },
          "metadata": {},
          "execution_count": 266
        }
      ]
    },
    {
      "cell_type": "code",
      "source": [
        "class bcolors: # This will allow us to print different categories in different colors\n",
        "    HEADER = '\\033[95m'\n",
        "    OKBLUE = '\\033[94m'\n",
        "    OKGREEN = '\\033[92m'\n",
        "    WARNING = '\\033[93m'\n",
        "    FAIL = '\\033[91m'\n",
        "    BOLD = '\\033[1m'\n",
        "target_color = {'OBJECTIVE': bcolors.BOLD, 'BACKGROUND':bcolors.HEADER, 'METHODS':bcolors.OKBLUE, 'CONCLUSIONS':bcolors.FAIL, 'RESULTS':bcolors.OKGREEN}\n",
        "\n",
        "def score_function(model, nlp, abstract):\n",
        "  \"\"\"\n",
        "  Predicts and prints the sentence category of the abstract sentences.\n",
        "  Args:\n",
        "    abstract: medical RCT paper abstract (str)\n",
        "    model: tensorflow classification model (tf.keras.Model)\n",
        "    nlp: english sentence parser\n",
        "  Retuns:\n",
        "    predictions: list of predicted classes (list)\n",
        "  \"\"\"\n",
        "  def prepare_data(abstract): # preprocess the data into the same format as model input\n",
        "    def split_chars(text):  # helper function for character tokenization\n",
        "      return \" \".join(list(text))\n",
        "    \n",
        "    doc = nlp(abstract) # create \"doc\" of parsed sequences, change index for a different abstract\n",
        "    sentences = [str(sent) for sent in list(doc.sents)] # split into sentences using pipeline object\n",
        "    total_lines = len(sentences)  # find the total number of sentences in the abstract\n",
        "    line_nums = np.arange(total_lines)  # find the line number of each sentence\n",
        "    line_nums_onehot = tf.one_hot(np.arange(total_lines),depth = 20)  # convert the line numbers to one-hot encoded format\n",
        "    total_lines_onehot = tf.one_hot([total_lines]*len(sentences), depth = 20) # create one-hot encoded total_lines tensor\n",
        "    line_relative_pos = line_nums / total_lines # find the relative position of sentences\n",
        "    positional_data = tf.concat([line_nums_onehot, total_lines_onehot, np.array(line_relative_pos)[...,None]], axis = 1)  # concatenate positional data\n",
        "    char_sentences = [split_chars(sentence) for sentence in sentences] # get character tokenized list of sentences\n",
        "    inputs = (positional_data, np.array(sentences), np.array(char_sentences)) # combine text, char_text, positional data into a tuple\n",
        "    return sentences, inputs \n",
        "  sentences, data = prepare_data(abstract)\n",
        "  predictions = model.predict(data)\n",
        "  predictions = tf.argmax(predictions, axis = 1).numpy()\n",
        "  target_inverse_map = {0: 'METHODS', 1: 'RESULTS', 2: 'CONCLUSIONS', 3: 'BACKGROUND', 4: 'OBJECTIVE'} # convert numerical labels to class names\n",
        "  predictions = [target_inverse_map[pred] for pred in predictions]\n",
        "  for row, sentence in enumerate(sentences):\n",
        "    print(target_color[predictions[row]], row, predictions[row],'\\n', sentence,'\\n\\n')\n",
        "  return predictions\n"
      ],
      "metadata": {
        "id": "kukdZSw5gKhx"
      },
      "execution_count": null,
      "outputs": []
    },
    {
      "cell_type": "code",
      "source": [
        "# Check the function on sample abstract\n",
        "predictions = score_function(model_5, nlp, sample_abstract)"
      ],
      "metadata": {
        "id": "2tjm17ZNUkQn",
        "colab": {
          "base_uri": "https://localhost:8080/"
        },
        "outputId": "cb176bad-7d09-4763-82d9-f31bc6d3cc8f"
      },
      "execution_count": null,
      "outputs": [
        {
          "output_type": "stream",
          "name": "stdout",
          "text": [
            "1/1 [==============================] - 0s 53ms/step\n",
            "\u001b[1m 0 OBJECTIVE \n",
            " This RCT examined the efficacy of a manualized social intervention for children with HFASDs \n",
            "\n",
            "\n",
            "\u001b[94m 1 METHODS \n",
            "  Participants were randomly assigned to treatment or wait-list conditions \n",
            "\n",
            "\n",
            "\u001b[94m 2 METHODS \n",
            "  Treatment included instruction and therapeutic activities targeting social skills, face-emotion recognition, interest expansion, and interpretation of non-literal language \n",
            "\n",
            "\n",
            "\u001b[94m 3 METHODS \n",
            "  A response-cost program was applied to reduce problem behaviors and foster skills acquisition \n",
            "\n",
            "\n",
            "\u001b[92m 4 RESULTS \n",
            "  Significant treatment effects were found for five of seven primary outcome measures (parent ratings and direct child measures) \n",
            "\n",
            "\n",
            "\u001b[92m 5 RESULTS \n",
            "  Secondary measures based on staff ratings (treatment group only) corroborated gains reported by parents \n",
            "\n",
            "\n",
            "\u001b[92m 6 RESULTS \n",
            "  High levels of parent, child and staff satisfaction were reported, along with high levels of treatment fidelity \n",
            "\n",
            "\n",
            "\u001b[92m 7 RESULTS \n",
            "  Standardized effect size estimates were primarily in the medium and large ranges and favored the treatment group \n",
            "\n",
            "\n"
          ]
        }
      ]
    }
  ]
}